{
  "nbformat": 4,
  "nbformat_minor": 0,
  "metadata": {
    "colab": {
      "private_outputs": true,
      "provenance": [],
      "collapsed_sections": [
        "w6K7xa23Elo4",
        "mDgbUHAGgjLW",
        "t6dVpIINYklI",
        "ijmpgYnKYklI",
        "-JiQyfWJYklI",
        "fge-S5ZAYoAp",
        "85gYPyotYoAp",
        "RoGjAbkUYoAp",
        "iky9q4vBYrdO",
        "F6T5p64dYrdO",
        "y-Ehk30pYrdP",
        "QHF8YVU7Yuh3",
        "GwzvFGzlYuh3",
        "qYpmQ266Yuh3",
        "OH-pJp9IphqM",
        "bbFf2-_FphqN",
        "_ouA3fa0phqN",
        "Seke61FWphqN",
        "t27r6nlMphqO",
        "r2jJGEOYphqO",
        "b0JNsNcRphqO",
        "jj7wYXLtphqO",
        "eZrbJ2SmphqO",
        "rFu4xreNphqO",
        "gCFgpxoyphqP",
        "OVtJsKN_phqQ",
        "lssrdh5qphqQ",
        "1M8mcRywphqQ",
        "tgIPom80phqQ",
        "JMzcOPDDphqR",
        "X_VqEhTip1ck",
        "8zGJKyg5p1ck",
        "PVzmfK_Ep1ck",
        "ylSl6qgtp1ck",
        "ZWILFDl5p1ck",
        "M7G43BXep1ck",
        "E6MkPsBcp1cl",
        "2cELzS2fp1cl",
        "3MPXvC8up1cl",
        "UV0SzAkaZNRQ",
        "YPEH6qLeZNRQ",
        "EXh0U9oCveiU",
        "22aHeOlLveiV",
        "Yfr_Vlr8HBkt",
        "yiiVWRdJDDil",
        "ArJBuiUVfxKd",
        "4qY1EAkEfxKe",
        "PiV4Ypx8fxKe",
        "TfvqoZmBfxKf",
        "JWYfwnehpsJ1",
        "HAih1iBOpsJ2",
        "zVGeBEFhpsJ2",
        "_-qAgymDpx6N",
        "Z-hykwinpx6N",
        "h_CCil-SKHpo",
        "cBFFvTBNJzUa",
        "EyNgTHvd2WFk",
        "KH5McJBi2d8v",
        "iW_Lq9qf2h6X",
        "-Kee-DAl2viO",
        "gCX9965dhzqZ",
        "gIfDvo9L0UH2"
      ]
    },
    "kernelspec": {
      "name": "python3",
      "display_name": "Python 3"
    },
    "language_info": {
      "name": "python"
    }
  },
  "cells": [
    {
      "cell_type": "markdown",
      "source": [
        "# **Project Name**    -  **Zomato Restaurant Clustering And Sentiment Analysis**\n",
        "\n"
      ],
      "metadata": {
        "id": "vncDsAP0Gaoa"
      }
    },
    {
      "cell_type": "markdown",
      "source": [
        "##### **Project Type**    - **Unsupervised ML**\n",
        "##### **Contribution**    - ***Battivilli Bhaskararao***\n"
      ],
      "metadata": {
        "id": "beRrZCGUAJYm"
      }
    },
    {
      "cell_type": "markdown",
      "source": [
        "# **Project Summary -**"
      ],
      "metadata": {
        "id": "FJNUwmbgGyua"
      }
    },
    {
      "cell_type": "markdown",
      "source": [
        "**Zomato is an Indian restaurant aggregator and food delivery start-up founded by Deepinder Goyal and Pankaj Chaddah in 2008. Zomato provides information, menus and user-reviews of restaurants, and also has food delivery options from partner restaurants in select cities. India is quite famous for its diverse multi cuisine available in a large number of restaurants and hotel resorts, which is reminiscent of unity in diversity. Restaurant business in India is always evolving. More Indians are warming up to the idea of eating restaurant food whether by dining outside or getting food delivered. The growing number of restaurants in every state of India has been a motivation to inspect the data to get some insights, interesting facts and figures about the Indian food industry in each city. So, this project focuses on analysing the Zomato restaurant data for each city in India.**"
      ],
      "metadata": {
        "id": "F6v_1wHtG2nS"
      }
    },
    {
      "cell_type": "markdown",
      "source": [
        "# **GitHub Link -**"
      ],
      "metadata": {
        "id": "w6K7xa23Elo4"
      }
    },
    {
      "cell_type": "markdown",
      "source": [
        "Provide your GitHub Link here."
      ],
      "metadata": {
        "id": "h1o69JH3Eqqn"
      }
    },
    {
      "cell_type": "markdown",
      "source": [
        "# **Problem Statement**\n"
      ],
      "metadata": {
        "id": "yQaldy8SH6Dl"
      }
    },
    {
      "cell_type": "markdown",
      "source": [
        "**The Project focuses on Customers and Company,We have to analyze the sentiments of the reviews given by the customer in the data and make some useful conclusions in the form of Visualizations. also, cluster the Zomato restaurants into different segments. The data is vizualized as it becomes easy to analyse data at instant. The Analysis also solves some of the business cases that can directly help the customers finding the Best restaurant in their locality and for the company to grow up and work on the fields they are currently lagging in. This could help in clustering the restaurants into segments. Also the data has valuable information around cuisine and costing which can be used in cost vs. benefit analysis data could be used for sentiment analysis. Also the metadata of reviewers can be used for identifying the critics in the industry.**"
      ],
      "metadata": {
        "id": "DpeJGUA3kjGy"
      }
    },
    {
      "cell_type": "markdown",
      "source": [
        "# **General Guidelines** : -  "
      ],
      "metadata": {
        "id": "mDgbUHAGgjLW"
      }
    },
    {
      "cell_type": "markdown",
      "source": [
        "1.   Well-structured, formatted, and commented code is required.\n",
        "2.   Exception Handling, Production Grade Code & Deployment Ready Code will be a plus. Those students will be awarded some additional credits.\n",
        "     \n",
        "     The additional credits will have advantages over other students during Star Student selection.\n",
        "       \n",
        "             [ Note: - Deployment Ready Code is defined as, the whole .ipynb notebook should be executable in one go\n",
        "                       without a single error logged. ]\n",
        "\n",
        "3.   Each and every logic should have proper comments.\n",
        "4. You may add as many number of charts you want. Make Sure for each and every chart the following format should be answered.\n",
        "        \n",
        "\n",
        "```\n",
        "# Chart visualization code\n",
        "```\n",
        "            \n",
        "\n",
        "*   Why did you pick the specific chart?\n",
        "*   What is/are the insight(s) found from the chart?\n",
        "* Will the gained insights help creating a positive business impact?\n",
        "Are there any insights that lead to negative growth? Justify with specific reason.\n",
        "\n",
        "5. You have to create at least 15 logical & meaningful charts having important insights.\n",
        "\n",
        "\n",
        "[ Hints : - Do the Vizualization in  a structured way while following \"UBM\" Rule.\n",
        "\n",
        "U - Univariate Analysis,\n",
        "\n",
        "B - Bivariate Analysis (Numerical - Categorical, Numerical - Numerical, Categorical - Categorical)\n",
        "\n",
        "M - Multivariate Analysis\n",
        " ]\n",
        "\n",
        "\n",
        "\n",
        "\n",
        "\n",
        "6. You may add more ml algorithms for model creation. Make sure for each and every algorithm, the following format should be answered.\n",
        "\n",
        "\n",
        "*   Explain the ML Model used and it's performance using Evaluation metric Score Chart.\n",
        "\n",
        "\n",
        "*   Cross- Validation & Hyperparameter Tuning\n",
        "\n",
        "*   Have you seen any improvement? Note down the improvement with updates Evaluation metric Score Chart.\n",
        "\n",
        "*   Explain each evaluation metric's indication towards business and the business impact pf the ML model used.\n",
        "\n",
        "\n",
        "\n",
        "\n",
        "\n",
        "\n",
        "\n",
        "\n",
        "\n",
        "\n",
        "\n",
        "\n",
        "\n",
        "\n",
        "\n",
        "\n",
        "\n",
        "\n"
      ],
      "metadata": {
        "id": "ZrxVaUj-hHfC"
      }
    },
    {
      "cell_type": "markdown",
      "source": [
        "# ***Let's Begin !***"
      ],
      "metadata": {
        "id": "O_i_v8NEhb9l"
      }
    },
    {
      "cell_type": "markdown",
      "source": [
        "## ***1. Know Your Data***"
      ],
      "metadata": {
        "id": "HhfV-JJviCcP"
      }
    },
    {
      "cell_type": "markdown",
      "source": [
        "### Import Libraries"
      ],
      "metadata": {
        "id": "Y3lxredqlCYt"
      }
    },
    {
      "cell_type": "code",
      "source": [
        "# Import Libraries\n",
        "import pandas as pd\n",
        "import numpy as np\n",
        "import seaborn as sns\n",
        "import matplotlib as plt"
      ],
      "metadata": {
        "id": "M8Vqi-pPk-HR"
      },
      "execution_count": null,
      "outputs": []
    },
    {
      "cell_type": "markdown",
      "source": [
        "### Dataset Loading"
      ],
      "metadata": {
        "id": "3RnN4peoiCZX"
      }
    },
    {
      "cell_type": "code",
      "source": [
        "import pandas as pd\n",
        "\n",
        "# Load the restaurant names and metadata\n",
        "restaurant_metadata_path = '/mnt/data/Zomato Restaurant names and Metadata.csv'\n",
        "restaurant_metadata = pd.read_csv('/content/Zomato Restaurant names and Metadata.csv')\n",
        "\n"
      ],
      "metadata": {
        "id": "4CkvbW_SlZ_R"
      },
      "execution_count": null,
      "outputs": []
    },
    {
      "cell_type": "code",
      "source": [
        "# Load the restaurant reviews data\n",
        "reviews_path = '/mnt/data/Zomato Restaurant reviews.csv'\n",
        "reviews_data = pd.read_csv('/content/Zomato Restaurant reviews.csv')\n"
      ],
      "metadata": {
        "id": "Wgz6zoExFzVw"
      },
      "execution_count": null,
      "outputs": []
    },
    {
      "cell_type": "markdown",
      "source": [
        "### Dataset First View"
      ],
      "metadata": {
        "id": "x71ZqKXriCWQ"
      }
    },
    {
      "cell_type": "code",
      "source": [
        "# Dataset First Look\n",
        "# Display the first few rows of the reviews dataframe\n",
        "restaurant_metadata.head()\n"
      ],
      "metadata": {
        "id": "LWNFOSvLl09H"
      },
      "execution_count": null,
      "outputs": []
    },
    {
      "cell_type": "code",
      "source": [
        "reviews_data.head()"
      ],
      "metadata": {
        "id": "fvSDuY6bGgBq"
      },
      "execution_count": null,
      "outputs": []
    },
    {
      "cell_type": "code",
      "source": [],
      "metadata": {
        "id": "MSb5LHYOAJR7"
      },
      "execution_count": null,
      "outputs": []
    },
    {
      "cell_type": "markdown",
      "source": [
        "### Dataset Rows & Columns count"
      ],
      "metadata": {
        "id": "7hBIi_osiCS2"
      }
    },
    {
      "cell_type": "code",
      "source": [
        "# Get the shape of the datasets\n",
        "metadata_shape = restaurant_metadata.shape\n",
        "reviews_shape = reviews_data.shape\n",
        "\n",
        "metadata_shape, reviews_shape"
      ],
      "metadata": {
        "id": "Kllu7SJgmLij"
      },
      "execution_count": null,
      "outputs": []
    },
    {
      "cell_type": "markdown",
      "source": [
        "### Dataset Information"
      ],
      "metadata": {
        "id": "JlHwYmJAmNHm"
      }
    },
    {
      "cell_type": "code",
      "source": [
        "# Dataset Info\n",
        "# Get information about the datasets\n",
        "metadata_info = restaurant_metadata.info()\n",
        "reviews_info = reviews_data.info()\n",
        "\n",
        "metadata_info, reviews_info\n"
      ],
      "metadata": {
        "id": "e9hRXRi6meOf"
      },
      "execution_count": null,
      "outputs": []
    },
    {
      "cell_type": "markdown",
      "source": [
        "#### Duplicate Values"
      ],
      "metadata": {
        "id": "35m5QtbWiB9F"
      }
    },
    {
      "cell_type": "code",
      "source": [
        "# Dataset Duplicate Value Count\n",
        "# Check for duplicate rows in both datasets\n",
        "metadata_duplicates = restaurant_metadata.duplicated().sum()\n",
        "reviews_duplicates = reviews_data.duplicated().sum()\n",
        "\n",
        "metadata_duplicates, reviews_duplicates\n"
      ],
      "metadata": {
        "id": "1sLdpKYkmox0"
      },
      "execution_count": null,
      "outputs": []
    },
    {
      "cell_type": "markdown",
      "source": [
        "#### Missing Values/Null Values"
      ],
      "metadata": {
        "id": "PoPl-ycgm1ru"
      }
    },
    {
      "cell_type": "code",
      "source": [
        "# Missing Values/Null Values Count\n",
        "# Calculate the number of missing/null values in each dataset\n",
        "metadata_missing_values = restaurant_metadata.isnull().sum()\n",
        "reviews_missing_values = reviews_data.isnull().sum()\n",
        "\n",
        "metadata_missing_values, reviews_missing_values\n"
      ],
      "metadata": {
        "id": "GgHWkxvamxVg"
      },
      "execution_count": null,
      "outputs": []
    },
    {
      "cell_type": "markdown",
      "source": [
        "**Zomato Restaurant names and Metadata**\n",
        "* Name: 0 missing values\n",
        "* Links: 0 missing values\n",
        "* Cost: 0 missing values\n",
        "* Collections: 54 missing values\n",
        "* Cuisines: 0 missing values\n",
        "* Timings: 1 missing value\n",
        "\n",
        "**Zomato Restaurant reviews**\n",
        "* Restaurant: 0 missing values\n",
        "* Reviewer: 38 missing values\n",
        "* Review: 45 missing values\n",
        "* Rating: 38 missing values\n",
        "* Metadata: 38 missing values\n",
        "* Time: 38 missing values\n",
        "* Pictures: 0 missing values"
      ],
      "metadata": {
        "id": "F-1wAhiGJ2ah"
      }
    },
    {
      "cell_type": "code",
      "source": [
        "# Visualizing the missing values\n",
        "import seaborn as sns\n",
        "import matplotlib.pyplot as plt\n",
        "\n",
        "# Define a function to create a heatmap for missing values\n",
        "def plot_missing_data_heatmap(df, title):\n",
        "    plt.figure(figsize=(10, 6))\n",
        "    sns.heatmap(df.isnull(), yticklabels=False, cbar=False, cmap='viridis')\n",
        "    plt.title(title)\n",
        "    plt.show()\n",
        "\n",
        "# Plot heatmap for missing values in both datasets\n",
        "plot_missing_data_heatmap(restaurant_metadata, 'Missing Data Heatmap - Restaurant Metadata')\n",
        "plot_missing_data_heatmap(reviews_data, 'Missing Data Heatmap - Restaurant Reviews')\n"
      ],
      "metadata": {
        "id": "3q5wnI3om9sJ"
      },
      "execution_count": null,
      "outputs": []
    },
    {
      "cell_type": "markdown",
      "source": [
        "### What did you know about your dataset?"
      ],
      "metadata": {
        "id": "H0kj-8xxnORC"
      }
    },
    {
      "cell_type": "markdown",
      "source": [
        "**Zomato Restaurant names and Metadata**\n",
        "* **Total Entries:** 105\n",
        "* **Total Columns:** 6\n",
        "* **Columns:** Name, Links, Cost, Collections, Cuisines, Timings\n",
        "\n",
        "**Missing Data**\n",
        "* **Collections:** 54 missing entries\n",
        "* **Timings:** 1 missing entry\n",
        "* **Data Types:** All columns are of the object type (which typically means strings or mixed types in pandas)\n",
        "* **Duplicate Rows:** None\n",
        "\n",
        "**Zomato Restaurant reviews**\n",
        "* **Total Entries:** 10,000\n",
        "* **Total Columns:** 7\n",
        "* **Columns:** Restaurant, Reviewer, Review, Rating, Metadata, Time, Pictures\n",
        "\n",
        "**Missing Data:**\n",
        "* **Reviewer:** 38 missing entries\n",
        "* **Review:** 45 missing entries\n",
        "* **Rating:** 38 missing entries\n",
        "* **Metadata:** 38 missing entries\n",
        "* **Time:** 38 missing entries\n",
        "* **Data Types:** Most columns are of the object type except for Pictures which is an int64\n",
        "* **Duplicate Rows:** 36\n",
        "\n",
        "**Observations**\n",
        "The metadata dataset provides general information about restaurants, including their names, associated links, cost, collections they're part of, cuisines they offer, and their timings. However, there is a significant amount of missing data in the \"Collections\" column that may require attention.\n",
        "The reviews dataset contains reviews for restaurants including the reviewer's name, the text of the review, a rating, additional metadata, the time of the review, and the number of pictures included. This dataset has some missing data across several columns that could impact analyses related to reviewer demographics or review content.\n",
        "The \"Pictures\" column in the reviews dataset is numerical, indicating the count of pictures included in each review, and has no missing values.\n",
        "There are some duplicate entries in the reviews dataset, which suggests that some reviews might have been recorded more than once.\n",
        "The datasets seem to be string-heavy, indicating that any analysis may involve significant text processing.\n"
      ],
      "metadata": {
        "id": "gfoNAAC-nUe_"
      }
    },
    {
      "cell_type": "markdown",
      "source": [
        "## ***2. Understanding Your Variables***"
      ],
      "metadata": {
        "id": "nA9Y7ga8ng1Z"
      }
    },
    {
      "cell_type": "code",
      "source": [
        "# Dataset Columns\n",
        "restaurant_metadata.columns"
      ],
      "metadata": {
        "id": "j7xfkqrt5Ag5"
      },
      "execution_count": null,
      "outputs": []
    },
    {
      "cell_type": "code",
      "source": [
        "reviews_data.columns"
      ],
      "metadata": {
        "id": "APxKxCAnMmWi"
      },
      "execution_count": null,
      "outputs": []
    },
    {
      "cell_type": "code",
      "source": [
        "# Dataset Describe\n",
        "# Using describe() on both datasets to get summary statistics for numerical columns\n",
        "# and include all columns for the metadata using 'include='all''\n",
        "metadata_describe = restaurant_metadata.describe(include='all')\n",
        "\n",
        "metadata_describe\n"
      ],
      "metadata": {
        "id": "DnOaZdaE5Q5t"
      },
      "execution_count": null,
      "outputs": []
    },
    {
      "cell_type": "code",
      "source": [
        "# Dataset Describe\n",
        "# Using describe() on both datasets to get summary statistics for numerical columns\n",
        "# and include all columns for the metadata using 'include='all''\n",
        "reviews_describe = reviews_data.describe(include='all')\n",
        "reviews_describe"
      ],
      "metadata": {
        "id": "_o0Yx_LUNIbK"
      },
      "execution_count": null,
      "outputs": []
    },
    {
      "cell_type": "markdown",
      "source": [
        "### Variables Description"
      ],
      "metadata": {
        "id": "PBTbrJXOngz2"
      }
    },
    {
      "cell_type": "markdown",
      "source": [
        "\n",
        "**Zomato Restaurant names and Metadata Variables**\n",
        "\n",
        "* **Name:** The name of the restaurant. This is a categorical variable that can be used to identify the restaurant.\n",
        "* **Links:** The URL link to the Zomato page of the restaurant. It's a categorical variable but unique for each restaurant, which can serve as an identifier or for web scraping additional data.\n",
        "* **Cost:** The average cost for two people. This appears to be a categorical variable in string format, but it may actually represent a numerical value that indicates the price range of the restaurant.\n",
        "* **Collections:** The collections or categories that the restaurant is part of (e.g., Best of Mumbai, Trending this Week). This is a categorical variable that may contain multiple categories for a single restaurant. It has missing values that may need to be handled.\n",
        "* **Cuisines:** The types of cuisines offered by the restaurant. It's a categorical variable that can contain multiple values for different cuisines offered.\n",
        "* **Timings:** The operating hours of the restaurant. This variable is likely a string that contains information about when the restaurant is open. It could be converted into more structured time data if necessary.\n",
        "\n",
        "**Zomato Restaurant reviews Variables**\n",
        "\n",
        "* **Restaurant:** The name of the restaurant being reviewed. This is a categorical variable and should correspond to the Name variable in the metadata dataset.\n",
        "* **Reviewer:** The name or identifier of the reviewer. It's a categorical variable and can be used for identifying unique reviewers or analyzing reviewer-based patterns.\n",
        "* **Review:** The text content of the review. This is a textual variable and can be used for text analysis, sentiment analysis, and natural language processing tasks.\n",
        "* **Rating:** The rating given by the reviewer. While it's currently categorized as an object, it likely represents a numerical value (rating score) and could be converted to a numerical type for analysis.\n",
        "* **Metadata:** Additional metadata about the review, which could include details like the number of reviews the reviewer has posted or the number of followers they have. This variable may need parsing to extract structured information.\n",
        "* **Time:** The timestamp of when the review was posted. It's currently a string but should represent datetime information. It could be converted to a datetime object for time series analysis.\n",
        "* **Pictures:** The number of pictures included with the review. This is a numerical variable and can be used quantitatively to analyze how the number of pictures correlates with other factors like ratings."
      ],
      "metadata": {
        "id": "aJV4KIxSnxay"
      }
    },
    {
      "cell_type": "markdown",
      "source": [
        "### Check Unique Values for each variable."
      ],
      "metadata": {
        "id": "u3PMJOP6ngxN"
      }
    },
    {
      "cell_type": "code",
      "source": [
        "# Check Unique Values for each variable.\n",
        "print(metadata_describe)\n",
        "print(reviews_describe)"
      ],
      "metadata": {
        "id": "zms12Yq5n-jE"
      },
      "execution_count": null,
      "outputs": []
    },
    {
      "cell_type": "markdown",
      "source": [
        "## 3. ***Data Wrangling***"
      ],
      "metadata": {
        "id": "dauF4eBmngu3"
      }
    },
    {
      "cell_type": "markdown",
      "source": [
        "### Data Wrangling Code"
      ],
      "metadata": {
        "id": "bKJF3rekwFvQ"
      }
    },
    {
      "cell_type": "code",
      "source": [
        "# Write your code to make your dataset analysis ready.\n",
        "\n",
        "# Handling missing values - Example: Dropping rows where 'Reviewer' is missing\n",
        "df_reviews_clean = reviews_data.dropna(subset=['Reviewer'])\n",
        "\n",
        "# Removing duplicates from the reviews dataset\n",
        "df_reviews_clean = df_reviews_clean.drop_duplicates()\n",
        "\n",
        "# Converting 'Cost' to a numeric type (assuming 'Cost' contains no currency symbols or commas)\n",
        "restaurant_metadata['Cost'] = pd.to_numeric(restaurant_metadata['Cost'], errors='coerce')\n",
        "\n",
        "# Converting 'Rating' to a numeric type\n",
        "df_reviews_clean['Rating'] = pd.to_numeric(df_reviews_clean['Rating'], errors='coerce')\n",
        "\n",
        "# Processing text data - Example: Converting 'Review' to lowercase\n",
        "df_reviews_clean['Review'] = df_reviews_clean['Review'].str.lower()\n",
        "\n",
        "# Parsing 'Time' column to datetime format\n",
        "df_reviews_clean['Time'] = pd.to_datetime(df_reviews_clean['Time'], errors='coerce', format='%m/%d/%Y %H:%M')\n",
        "\n",
        "# Example of creating a new feature - Extracting the day of the week from 'Time'\n",
        "df_reviews_clean['DayOfWeek'] = df_reviews_clean['Time'].dt.day_name()"
      ],
      "metadata": {
        "id": "wk-9a2fpoLcV"
      },
      "execution_count": null,
      "outputs": []
    },
    {
      "cell_type": "markdown",
      "source": [
        "### What all manipulations have you done and insights you found?"
      ],
      "metadata": {
        "id": "MSa1f5Uengrz"
      }
    },
    {
      "cell_type": "markdown",
      "source": [
        "* **Cleaning Data:** This includes handling missing values, removing duplicates, and correcting incorrect data.\n",
        "* **Type Conversion:** Converting data types to the appropriate type (e.g., converting the Cost variable from a string to a numeric type if it represents a price).\n",
        "* **Text Data Processing:** For the **Review** column in the reviews dataset, you might want to clean the text data by removing special characters, converting to lowercase, etc., to prepare for text analysis.\n",
        "* **Parsing Dates:** Converting the **Time** column in the reviews dataset to a datetime format for any time series analysis.\n",
        "* **Handling Categorical Data:** For the **Cuisines** and **Collections** columns, you might want to one-hot encode these or convert them into a format that's suitable for analysis.\n",
        "* **Creating New Features:** Based on existing data, you might want to create new columns that could be useful for analysis (e.g., extracting the day of the week from the review time)."
      ],
      "metadata": {
        "id": "LbyXE7I1olp8"
      }
    },
    {
      "cell_type": "markdown",
      "source": [
        "## ***4. Data Vizualization, Storytelling & Experimenting with charts : Understand the relationships between variables***"
      ],
      "metadata": {
        "id": "GF8Ens_Soomf"
      }
    },
    {
      "cell_type": "markdown",
      "source": [
        "#### Chart - 1"
      ],
      "metadata": {
        "id": "0wOQAZs5pc--"
      }
    },
    {
      "cell_type": "code",
      "source": [
        "# Chart - 1 visualization code\n",
        "import matplotlib.pyplot as plt\n",
        "import seaborn as sns\n",
        "\n",
        "# Convert ratings to numeric, coerce errors will handle non-numeric values by setting NaN\n",
        "reviews_data['Rating'] = pd.to_numeric(reviews_data['Rating'], errors='coerce')\n",
        "\n",
        "# Drop NaN values that were non-numeric ratings\n",
        "reviews_data_clean = reviews_data.dropna(subset=['Rating'])\n",
        "\n",
        "# Creating a histogram for the distribution of ratings\n",
        "plt.figure(figsize=(10, 6))\n",
        "sns.histplot(reviews_data_clean['Rating'], kde=False, bins=10, color='skyblue')\n",
        "plt.title('Distribution of Ratings')\n",
        "plt.xlabel('Rating')\n",
        "plt.ylabel('Number of Reviews')\n",
        "plt.grid(axis='y', linestyle='--', alpha=0.7)\n",
        "plt.show()\n"
      ],
      "metadata": {
        "id": "7v_ESjsspbW7"
      },
      "execution_count": null,
      "outputs": []
    },
    {
      "cell_type": "markdown",
      "source": [
        "##### 1. Why did you pick the specific chart?"
      ],
      "metadata": {
        "id": "K5QZ13OEpz2H"
      }
    },
    {
      "cell_type": "markdown",
      "source": [
        "It helps in understanding the range in which most restaurants price themselves for two people and to see if there's a common pricing strategy."
      ],
      "metadata": {
        "id": "XESiWehPqBRc"
      }
    },
    {
      "cell_type": "markdown",
      "source": [
        "##### 2. What is/are the insight(s) found from the chart?"
      ],
      "metadata": {
        "id": "lQ7QKXXCp7Bj"
      }
    },
    {
      "cell_type": "markdown",
      "source": [
        "We might find a common price point that most restaurants target, or see if there's a wide range of prices."
      ],
      "metadata": {
        "id": "C_j1G7yiqdRP"
      }
    },
    {
      "cell_type": "markdown",
      "source": [
        "##### 3. Will the gained insights help creating a positive business impact?\n",
        "Are there any insights that lead to negative growth? Justify with specific reason."
      ],
      "metadata": {
        "id": "448CDAPjqfQr"
      }
    },
    {
      "cell_type": "markdown",
      "source": [
        "This could help new restaurants in setting competitive prices or help existing ones re-evaluate their pricing strategies based on the common trends."
      ],
      "metadata": {
        "id": "3cspy4FjqxJW"
      }
    },
    {
      "cell_type": "markdown",
      "source": [
        "#### Chart - 2"
      ],
      "metadata": {
        "id": "KSlN3yHqYklG"
      }
    },
    {
      "cell_type": "code",
      "source": [
        "# Cleaning the Cost column and converting it to numeric\n",
        "restaurant_metadata['Cost'] = restaurant_metadata['Cost'].replace(',', '', regex=True).astype(float)\n",
        "\n",
        "# Create a histogram for the distribution of average cost\n",
        "plt.figure(figsize=(8, 6))\n",
        "plt.hist(restaurant_metadata['Cost'].dropna(), bins=20, color='lightgreen', edgecolor='black')\n",
        "plt.title('Average Cost Distribution')\n",
        "plt.xlabel('Average Cost for Two')\n",
        "plt.ylabel('Number of Restaurants')\n",
        "plt.show()"
      ],
      "metadata": {
        "id": "R4YgtaqtYklH"
      },
      "execution_count": null,
      "outputs": []
    },
    {
      "cell_type": "markdown",
      "source": [
        "##### 1. Why did you pick the specific chart?"
      ],
      "metadata": {
        "id": "t6dVpIINYklI"
      }
    },
    {
      "cell_type": "markdown",
      "source": [
        "Answer Here."
      ],
      "metadata": {
        "id": "5aaW0BYyYklI"
      }
    },
    {
      "cell_type": "markdown",
      "source": [
        "##### 2. What is/are the insight(s) found from the chart?"
      ],
      "metadata": {
        "id": "ijmpgYnKYklI"
      }
    },
    {
      "cell_type": "markdown",
      "source": [
        "Answer Here"
      ],
      "metadata": {
        "id": "PSx9atu2YklI"
      }
    },
    {
      "cell_type": "markdown",
      "source": [
        "##### 3. Will the gained insights help creating a positive business impact?\n",
        "Are there any insights that lead to negative growth? Justify with specific reason."
      ],
      "metadata": {
        "id": "-JiQyfWJYklI"
      }
    },
    {
      "cell_type": "markdown",
      "source": [
        "Answer Here"
      ],
      "metadata": {
        "id": "BcBbebzrYklV"
      }
    },
    {
      "cell_type": "markdown",
      "source": [
        "#### Chart - 3"
      ],
      "metadata": {
        "id": "EM7whBJCYoAo"
      }
    },
    {
      "cell_type": "code",
      "source": [
        "# Chart - 3 visualization code\n",
        "from collections import Counter\n",
        "\n",
        "# Splitting the cuisines and counting the occurrences\n",
        "cuisines_list = restaurant_metadata['Cuisines'].dropna().str.split(', ').sum()\n",
        "cuisine_counts = Counter(cuisines_list)\n",
        "\n",
        "# Creating a bar chart for the most common cuisines\n",
        "plt.figure(figsize=(10, 8))\n",
        "plt.barh(list(cuisine_counts.keys()), list(cuisine_counts.values()), color='purple')\n",
        "plt.title('Most Common Cuisines')\n",
        "plt.xlabel('Number of Restaurants')\n",
        "plt.ylabel('Cuisines')\n",
        "plt.show()\n"
      ],
      "metadata": {
        "id": "t6GMdE67YoAp"
      },
      "execution_count": null,
      "outputs": []
    },
    {
      "cell_type": "markdown",
      "source": [
        "##### 1. Why did you pick the specific chart?"
      ],
      "metadata": {
        "id": "fge-S5ZAYoAp"
      }
    },
    {
      "cell_type": "markdown",
      "source": [
        "Answer Here."
      ],
      "metadata": {
        "id": "5dBItgRVYoAp"
      }
    },
    {
      "cell_type": "markdown",
      "source": [
        "##### 2. What is/are the insight(s) found from the chart?"
      ],
      "metadata": {
        "id": "85gYPyotYoAp"
      }
    },
    {
      "cell_type": "markdown",
      "source": [
        "Answer Here"
      ],
      "metadata": {
        "id": "4jstXR6OYoAp"
      }
    },
    {
      "cell_type": "markdown",
      "source": [
        "##### 3. Will the gained insights help creating a positive business impact?\n",
        "Are there any insights that lead to negative growth? Justify with specific reason."
      ],
      "metadata": {
        "id": "RoGjAbkUYoAp"
      }
    },
    {
      "cell_type": "markdown",
      "source": [
        "Answer Here"
      ],
      "metadata": {
        "id": "zfJ8IqMcYoAp"
      }
    },
    {
      "cell_type": "markdown",
      "source": [
        "#### Chart - 4"
      ],
      "metadata": {
        "id": "4Of9eVA-YrdM"
      }
    },
    {
      "cell_type": "code",
      "source": [
        "# Chart - 4 visualization code\n",
        "# Count the number of reviews for each restaurant\n",
        "review_counts = reviews_data['Restaurant'].value_counts()\n",
        "\n",
        "# Create a bar chart for the number of reviews per restaurant\n",
        "plt.figure(figsize=(10, 8))\n",
        "plt.bar(review_counts.index[:10], review_counts.values[:10], color='orange') # Top 10 restaurants\n",
        "plt.title('Number of Reviews per Restaurant')\n",
        "plt.xlabel('Restaurants')\n",
        "plt.ylabel('Number of Reviews')\n",
        "plt.xticks(rotation=90)\n",
        "plt.show()"
      ],
      "metadata": {
        "id": "irlUoxc8YrdO"
      },
      "execution_count": null,
      "outputs": []
    },
    {
      "cell_type": "markdown",
      "source": [
        "##### 1. Why did you pick the specific chart?"
      ],
      "metadata": {
        "id": "iky9q4vBYrdO"
      }
    },
    {
      "cell_type": "markdown",
      "source": [
        "Answer Here."
      ],
      "metadata": {
        "id": "aJRCwT6DYrdO"
      }
    },
    {
      "cell_type": "markdown",
      "source": [
        "##### 2. What is/are the insight(s) found from the chart?"
      ],
      "metadata": {
        "id": "F6T5p64dYrdO"
      }
    },
    {
      "cell_type": "markdown",
      "source": [
        "Answer Here"
      ],
      "metadata": {
        "id": "Xx8WAJvtYrdO"
      }
    },
    {
      "cell_type": "markdown",
      "source": [
        "##### 3. Will the gained insights help creating a positive business impact?\n",
        "Are there any insights that lead to negative growth? Justify with specific reason."
      ],
      "metadata": {
        "id": "y-Ehk30pYrdP"
      }
    },
    {
      "cell_type": "markdown",
      "source": [
        "Answer Here"
      ],
      "metadata": {
        "id": "jLNxxz7MYrdP"
      }
    },
    {
      "cell_type": "markdown",
      "source": [
        "#### Chart - 5"
      ],
      "metadata": {
        "id": "bamQiAODYuh1"
      }
    },
    {
      "cell_type": "code",
      "source": [
        "# Chart - 5 visualization code\n",
        "# Convert the 'Time' column to datetime\n",
        "reviews_data['Time'] = pd.to_datetime(reviews_data['Time'])\n",
        "\n",
        "# Group by Time and take the mean of ratings\n",
        "ratings_over_time = reviews_data.groupby(reviews_data['Time'].dt.date)['Rating'].mean()\n",
        "\n",
        "# Create a line chart for ratings over time\n",
        "plt.figure(figsize=(10, 6))\n",
        "plt.plot(ratings_over_time.index, ratings_over_time.values, color='red')\n",
        "plt.title('Ratings Over Time')\n",
        "plt.xlabel('Time')\n",
        "plt.ylabel('Average Rating')\n",
        "plt.xticks(rotation=45)\n",
        "plt.show()"
      ],
      "metadata": {
        "id": "TIJwrbroYuh3"
      },
      "execution_count": null,
      "outputs": []
    },
    {
      "cell_type": "markdown",
      "source": [
        "##### 1. Why did you pick the specific chart?"
      ],
      "metadata": {
        "id": "QHF8YVU7Yuh3"
      }
    },
    {
      "cell_type": "markdown",
      "source": [
        "Answer Here."
      ],
      "metadata": {
        "id": "dcxuIMRPYuh3"
      }
    },
    {
      "cell_type": "markdown",
      "source": [
        "##### 2. What is/are the insight(s) found from the chart?"
      ],
      "metadata": {
        "id": "GwzvFGzlYuh3"
      }
    },
    {
      "cell_type": "markdown",
      "source": [
        "Answer Here"
      ],
      "metadata": {
        "id": "uyqkiB8YYuh3"
      }
    },
    {
      "cell_type": "markdown",
      "source": [
        "##### 3. Will the gained insights help creating a positive business impact?\n",
        "Are there any insights that lead to negative growth? Justify with specific reason."
      ],
      "metadata": {
        "id": "qYpmQ266Yuh3"
      }
    },
    {
      "cell_type": "markdown",
      "source": [
        "Answer Here"
      ],
      "metadata": {
        "id": "_WtzZ_hCYuh4"
      }
    },
    {
      "cell_type": "markdown",
      "source": [
        "#### Chart - 6"
      ],
      "metadata": {
        "id": "OH-pJp9IphqM"
      }
    },
    {
      "cell_type": "code",
      "source": [
        "# Chart - 6 visualization code"
      ],
      "metadata": {
        "id": "kuRf4wtuphqN"
      },
      "execution_count": null,
      "outputs": []
    },
    {
      "cell_type": "markdown",
      "source": [
        "##### 1. Why did you pick the specific chart?"
      ],
      "metadata": {
        "id": "bbFf2-_FphqN"
      }
    },
    {
      "cell_type": "markdown",
      "source": [
        "Answer Here."
      ],
      "metadata": {
        "id": "loh7H2nzphqN"
      }
    },
    {
      "cell_type": "markdown",
      "source": [
        "##### 2. What is/are the insight(s) found from the chart?"
      ],
      "metadata": {
        "id": "_ouA3fa0phqN"
      }
    },
    {
      "cell_type": "markdown",
      "source": [
        "Answer Here"
      ],
      "metadata": {
        "id": "VECbqPI7phqN"
      }
    },
    {
      "cell_type": "markdown",
      "source": [
        "##### 3. Will the gained insights help creating a positive business impact?\n",
        "Are there any insights that lead to negative growth? Justify with specific reason."
      ],
      "metadata": {
        "id": "Seke61FWphqN"
      }
    },
    {
      "cell_type": "markdown",
      "source": [
        "Answer Here"
      ],
      "metadata": {
        "id": "DW4_bGpfphqN"
      }
    },
    {
      "cell_type": "markdown",
      "source": [
        "#### Chart - 7"
      ],
      "metadata": {
        "id": "PIIx-8_IphqN"
      }
    },
    {
      "cell_type": "code",
      "source": [
        "# Chart - 7 visualization code\n",
        "from wordcloud import WordCloud\n",
        "\n",
        "# Combine all reviews into one large text\n",
        "text = ' '.join(review for review in reviews_data['Review'].dropna())\n",
        "\n",
        "# Create a Word Cloud\n",
        "wordcloud = WordCloud(background_color='white').generate(text)\n",
        "\n",
        "# Display the word cloud\n",
        "plt.figure(figsize=(10, 6))\n",
        "plt.imshow(wordcloud, interpolation='bilinear')\n",
        "plt.axis('off')\n",
        "plt.show()"
      ],
      "metadata": {
        "id": "lqAIGUfyphqO"
      },
      "execution_count": null,
      "outputs": []
    },
    {
      "cell_type": "markdown",
      "source": [
        "##### 1. Why did you pick the specific chart?"
      ],
      "metadata": {
        "id": "t27r6nlMphqO"
      }
    },
    {
      "cell_type": "markdown",
      "source": [
        "Answer Here."
      ],
      "metadata": {
        "id": "iv6ro40sphqO"
      }
    },
    {
      "cell_type": "markdown",
      "source": [
        "##### 2. What is/are the insight(s) found from the chart?"
      ],
      "metadata": {
        "id": "r2jJGEOYphqO"
      }
    },
    {
      "cell_type": "markdown",
      "source": [
        "Answer Here"
      ],
      "metadata": {
        "id": "Po6ZPi4hphqO"
      }
    },
    {
      "cell_type": "markdown",
      "source": [
        "##### 3. Will the gained insights help creating a positive business impact?\n",
        "Are there any insights that lead to negative growth? Justify with specific reason."
      ],
      "metadata": {
        "id": "b0JNsNcRphqO"
      }
    },
    {
      "cell_type": "markdown",
      "source": [
        "Answer Here"
      ],
      "metadata": {
        "id": "xvSq8iUTphqO"
      }
    },
    {
      "cell_type": "markdown",
      "source": [
        "#### Chart - 8"
      ],
      "metadata": {
        "id": "BZR9WyysphqO"
      }
    },
    {
      "cell_type": "code",
      "source": [
        "# Chart - 8 visualization code\n",
        "# Count the number of reviews by each reviewer\n",
        "reviewer_counts = reviews_data['Reviewer'].value_counts()\n",
        "\n",
        "# Create a bar chart for reviewer activity\n",
        "plt.figure(figsize=(10, 8))\n",
        "plt.bar(reviewer_counts.index[:10], reviewer_counts.values[:10], color='teal') # Top 10 reviewers\n",
        "plt.title('Reviewer Activity')\n",
        "plt.xlabel('Reviewers')\n",
        "plt.ylabel('Number of Reviews')\n",
        "plt.xticks(rotation=90)\n",
        "plt.show()"
      ],
      "metadata": {
        "id": "TdPTWpAVphqO"
      },
      "execution_count": null,
      "outputs": []
    },
    {
      "cell_type": "markdown",
      "source": [
        "##### 1. Why did you pick the specific chart?"
      ],
      "metadata": {
        "id": "jj7wYXLtphqO"
      }
    },
    {
      "cell_type": "markdown",
      "source": [
        "Answer Here."
      ],
      "metadata": {
        "id": "Ob8u6rCTphqO"
      }
    },
    {
      "cell_type": "markdown",
      "source": [
        "##### 2. What is/are the insight(s) found from the chart?"
      ],
      "metadata": {
        "id": "eZrbJ2SmphqO"
      }
    },
    {
      "cell_type": "markdown",
      "source": [
        "Answer Here"
      ],
      "metadata": {
        "id": "mZtgC_hjphqO"
      }
    },
    {
      "cell_type": "markdown",
      "source": [
        "##### 3. Will the gained insights help creating a positive business impact?\n",
        "Are there any insights that lead to negative growth? Justify with specific reason."
      ],
      "metadata": {
        "id": "rFu4xreNphqO"
      }
    },
    {
      "cell_type": "markdown",
      "source": [
        "Answer Here"
      ],
      "metadata": {
        "id": "ey_0qi68phqO"
      }
    },
    {
      "cell_type": "markdown",
      "source": [
        "#### Chart - 9"
      ],
      "metadata": {
        "id": "YJ55k-q6phqO"
      }
    },
    {
      "cell_type": "code",
      "source": [
        "# Chart - 9 visualization code\n",
        "# Group by Rating and count the number of pictures\n",
        "pictures_count = reviews_data.groupby('Rating')['Pictures'].sum()\n",
        "\n",
        "# Create a bar chart for the number of pictures posted with different ratings\n",
        "plt.figure(figsize=(8, 6))\n",
        "plt.bar(pictures_count.index, pictures_count.values, color='brown')\n",
        "plt.title('Pictures Count vs Ratings')\n",
        "plt.xlabel('Ratings')\n",
        "plt.ylabel('Total Number of Pictures')\n",
        "plt.show()"
      ],
      "metadata": {
        "id": "B2aS4O1ophqO"
      },
      "execution_count": null,
      "outputs": []
    },
    {
      "cell_type": "markdown",
      "source": [
        "##### 1. Why did you pick the specific chart?"
      ],
      "metadata": {
        "id": "gCFgpxoyphqP"
      }
    },
    {
      "cell_type": "markdown",
      "source": [
        "Answer Here."
      ],
      "metadata": {
        "id": "TVxDimi2phqP"
      }
    },
    {
      "cell_type": "markdown",
      "source": [
        "##### 2. What is/are the insight(s) found from the chart?"
      ],
      "metadata": {
        "id": "OVtJsKN_phqQ"
      }
    },
    {
      "cell_type": "markdown",
      "source": [
        "Answer Here"
      ],
      "metadata": {
        "id": "ngGi97qjphqQ"
      }
    },
    {
      "cell_type": "markdown",
      "source": [
        "##### 3. Will the gained insights help creating a positive business impact?\n",
        "Are there any insights that lead to negative growth? Justify with specific reason."
      ],
      "metadata": {
        "id": "lssrdh5qphqQ"
      }
    },
    {
      "cell_type": "markdown",
      "source": [
        "Answer Here"
      ],
      "metadata": {
        "id": "tBpY5ekJphqQ"
      }
    },
    {
      "cell_type": "markdown",
      "source": [
        "#### Chart - 10"
      ],
      "metadata": {
        "id": "U2RJ9gkRphqQ"
      }
    },
    {
      "cell_type": "code",
      "source": [
        "# Chart - 10 visualization code\n",
        "# Average rating per restaurant\n",
        "average_ratings = reviews_data.groupby('Restaurant')['Rating'].mean()\n",
        "\n",
        "# Merge average rating with the cost data\n",
        "cost_rating_df = pd.merge(restaurant_metadata[['Name', 'Cost']], average_ratings, left_on='Name', right_index=True)\n",
        "\n",
        "# Create a scatter plot for cost vs. rating\n",
        "plt.figure(figsize=(10, 6))\n",
        "plt.scatter(cost_rating_df['Cost'], cost_rating_df['Rating'], color='blue')\n",
        "plt.title('Cost vs Rating')\n",
        "plt.xlabel('Average Cost for Two')\n",
        "plt.ylabel('Average Rating')\n",
        "plt.show()"
      ],
      "metadata": {
        "id": "GM7a4YP4phqQ"
      },
      "execution_count": null,
      "outputs": []
    },
    {
      "cell_type": "markdown",
      "source": [
        "##### 1. Why did you pick the specific chart?"
      ],
      "metadata": {
        "id": "1M8mcRywphqQ"
      }
    },
    {
      "cell_type": "markdown",
      "source": [
        "Answer Here."
      ],
      "metadata": {
        "id": "8agQvks0phqQ"
      }
    },
    {
      "cell_type": "markdown",
      "source": [
        "##### 2. What is/are the insight(s) found from the chart?"
      ],
      "metadata": {
        "id": "tgIPom80phqQ"
      }
    },
    {
      "cell_type": "markdown",
      "source": [
        "Answer Here"
      ],
      "metadata": {
        "id": "Qp13pnNzphqQ"
      }
    },
    {
      "cell_type": "markdown",
      "source": [
        "##### 3. Will the gained insights help creating a positive business impact?\n",
        "Are there any insights that lead to negative growth? Justify with specific reason."
      ],
      "metadata": {
        "id": "JMzcOPDDphqR"
      }
    },
    {
      "cell_type": "markdown",
      "source": [
        "Answer Here"
      ],
      "metadata": {
        "id": "R4Ka1PC2phqR"
      }
    },
    {
      "cell_type": "markdown",
      "source": [
        "#### Chart - 11"
      ],
      "metadata": {
        "id": "x-EpHcCOp1ci"
      }
    },
    {
      "cell_type": "code",
      "source": [
        "# Chart - 11 visualization code\n",
        "# We will extract these into a new DataFrame where each restaurant's name is matched with individual cuisine\n",
        "\n",
        "# First, let's create a DataFrame that maps restaurants to individual cuisines\n",
        "# We'll explode the 'Cuisines' column after splitting by comma\n",
        "cuisines_df = restaurant_metadata[['Name', 'Cuisines']]\n",
        "cuisines_df['Cuisines'] = cuisines_df['Cuisines'].str.split(', ')\n",
        "cuisines_df = cuisines_df.explode('Cuisines').reset_index(drop=True)\n",
        "cuisines_df.rename(columns={'Name': 'Restaurant', 'Cuisines': 'Cuisine'}, inplace=True)\n",
        "\n",
        "# Now, we can compute the average rating for each restaurant\n",
        "# We already have this data in 'average_ratings', so let's merge it with our 'cuisines_df'\n",
        "cuisine_rating_df = cuisines_df.merge(average_ratings.to_frame(), left_on='Restaurant', right_index=True)\n",
        "\n",
        "# Finally, we can create a boxplot of ratings by cuisine\n",
        "import seaborn as sns\n",
        "import matplotlib.pyplot as plt\n",
        "\n",
        "# Create the boxplot\n",
        "plt.figure(figsize=(12, 10))\n",
        "sns.boxplot(x='Cuisine', y='Rating', data=cuisine_rating_df)\n",
        "plt.title('Boxplot of Ratings by Cuisine')\n",
        "plt.xlabel('Cuisine')\n",
        "plt.ylabel('Rating')\n",
        "plt.xticks(rotation=45)\n",
        "plt.show()\n"
      ],
      "metadata": {
        "id": "mAQTIvtqp1cj"
      },
      "execution_count": null,
      "outputs": []
    },
    {
      "cell_type": "markdown",
      "source": [
        "##### 1. Why did you pick the specific chart?"
      ],
      "metadata": {
        "id": "X_VqEhTip1ck"
      }
    },
    {
      "cell_type": "markdown",
      "source": [
        "Answer Here."
      ],
      "metadata": {
        "id": "-vsMzt_np1ck"
      }
    },
    {
      "cell_type": "markdown",
      "source": [
        "##### 2. What is/are the insight(s) found from the chart?"
      ],
      "metadata": {
        "id": "8zGJKyg5p1ck"
      }
    },
    {
      "cell_type": "markdown",
      "source": [
        "Answer Here"
      ],
      "metadata": {
        "id": "ZYdMsrqVp1ck"
      }
    },
    {
      "cell_type": "markdown",
      "source": [
        "##### 3. Will the gained insights help creating a positive business impact?\n",
        "Are there any insights that lead to negative growth? Justify with specific reason."
      ],
      "metadata": {
        "id": "PVzmfK_Ep1ck"
      }
    },
    {
      "cell_type": "markdown",
      "source": [
        "Answer Here"
      ],
      "metadata": {
        "id": "druuKYZpp1ck"
      }
    },
    {
      "cell_type": "markdown",
      "source": [
        "#### Chart - 12"
      ],
      "metadata": {
        "id": "n3dbpmDWp1ck"
      }
    },
    {
      "cell_type": "code",
      "source": [
        "restaurant_metadata.head()"
      ],
      "metadata": {
        "id": "f3k7jUi3LqqK"
      },
      "execution_count": null,
      "outputs": []
    },
    {
      "cell_type": "code",
      "source": [
        "# Chart - 12 visualization code\n",
        "# Assuming operational hours are categorized and stored in a column named 'Hours_Category'\n",
        "\n",
        "# Count the frequency of each category\n",
        "hours_frequency = restaurant_metadata['Timings'].value_counts()\n",
        "\n",
        "# Create a bar chart for operational hours frequency\n",
        "plt.figure(figsize=(10, 8))\n",
        "plt.bar(hours_frequency.index, hours_frequency.values, color='darkgreen')\n",
        "plt.title('Operational Hours Frequency')\n",
        "plt.xlabel('Operational Hours Category')\n",
        "plt.ylabel('Frequency')\n",
        "plt.xticks(rotation=90)\n",
        "plt.show()"
      ],
      "metadata": {
        "id": "bwevp1tKp1ck"
      },
      "execution_count": null,
      "outputs": []
    },
    {
      "cell_type": "markdown",
      "source": [
        "##### 1. Why did you pick the specific chart?"
      ],
      "metadata": {
        "id": "ylSl6qgtp1ck"
      }
    },
    {
      "cell_type": "markdown",
      "source": [
        "Answer Here."
      ],
      "metadata": {
        "id": "m2xqNkiQp1ck"
      }
    },
    {
      "cell_type": "markdown",
      "source": [
        "##### 2. What is/are the insight(s) found from the chart?"
      ],
      "metadata": {
        "id": "ZWILFDl5p1ck"
      }
    },
    {
      "cell_type": "markdown",
      "source": [
        "Answer Here"
      ],
      "metadata": {
        "id": "x-lUsV2mp1ck"
      }
    },
    {
      "cell_type": "markdown",
      "source": [
        "##### 3. Will the gained insights help creating a positive business impact?\n",
        "Are there any insights that lead to negative growth? Justify with specific reason."
      ],
      "metadata": {
        "id": "M7G43BXep1ck"
      }
    },
    {
      "cell_type": "markdown",
      "source": [
        "Answer Here"
      ],
      "metadata": {
        "id": "5wwDJXsLp1cl"
      }
    },
    {
      "cell_type": "markdown",
      "source": [
        "#### Chart - 13"
      ],
      "metadata": {
        "id": "Ag9LCva-p1cl"
      }
    },
    {
      "cell_type": "code",
      "source": [
        "# Chart - 13 visualization code\n",
        "# Create a pairplot for the numerical variables\n",
        "sns.pairplot(reviews_data.select_dtypes(include=['float64', 'int64']))\n",
        "plt.show()"
      ],
      "metadata": {
        "id": "EUfxeq9-p1cl"
      },
      "execution_count": null,
      "outputs": []
    },
    {
      "cell_type": "markdown",
      "source": [
        "##### 1. Why did you pick the specific chart?"
      ],
      "metadata": {
        "id": "E6MkPsBcp1cl"
      }
    },
    {
      "cell_type": "markdown",
      "source": [
        "Answer Here."
      ],
      "metadata": {
        "id": "V22bRsFWp1cl"
      }
    },
    {
      "cell_type": "markdown",
      "source": [
        "##### 2. What is/are the insight(s) found from the chart?"
      ],
      "metadata": {
        "id": "2cELzS2fp1cl"
      }
    },
    {
      "cell_type": "markdown",
      "source": [
        "Answer Here"
      ],
      "metadata": {
        "id": "ozQPc2_Ip1cl"
      }
    },
    {
      "cell_type": "markdown",
      "source": [
        "##### 3. Will the gained insights help creating a positive business impact?\n",
        "Are there any insights that lead to negative growth? Justify with specific reason."
      ],
      "metadata": {
        "id": "3MPXvC8up1cl"
      }
    },
    {
      "cell_type": "markdown",
      "source": [
        "Answer Here"
      ],
      "metadata": {
        "id": "GL8l1tdLp1cl"
      }
    },
    {
      "cell_type": "markdown",
      "source": [
        "#### Chart - 14 - Correlation Heatmap"
      ],
      "metadata": {
        "id": "NC_X3p0fY2L0"
      }
    },
    {
      "cell_type": "code",
      "source": [
        "# Correlation Heatmap visualization code\n",
        "# We'll re-calculate the correlation matrix since the environment was reset\n",
        "merged_data = reviews_data.merge(restaurant_metadata[['Name', 'Cost']], left_on='Restaurant', right_on='Name')\n",
        "numerical_cols = merged_data[['Rating', 'Pictures', 'Cost']]\n",
        "corr_matrix = numerical_cols.corr()\n",
        "\n",
        "# Now generating the mask for the upper triangle\n",
        "mask = np.triu(np.ones_like(corr_matrix, dtype=bool))\n",
        "\n",
        "# Set up the matplotlib figure\n",
        "plt.figure(figsize=(10, 8))\n",
        "\n",
        "# Draw the heatmap with the mask and correct aspect ratio\n",
        "sns.heatmap(corr_matrix, mask=mask, cmap='coolwarm', vmax=.3, center=0,\n",
        "            square=True, linewidths=.5, cbar_kws={\"shrink\": .5}, annot=True)\n",
        "\n",
        "plt.title('Correlation Heatmap')\n",
        "plt.show()"
      ],
      "metadata": {
        "id": "xyC9zolEZNRQ"
      },
      "execution_count": null,
      "outputs": []
    },
    {
      "cell_type": "markdown",
      "source": [
        "##### 1. Why did you pick the specific chart?"
      ],
      "metadata": {
        "id": "UV0SzAkaZNRQ"
      }
    },
    {
      "cell_type": "markdown",
      "source": [
        "Answer Here."
      ],
      "metadata": {
        "id": "DVPuT8LYZNRQ"
      }
    },
    {
      "cell_type": "markdown",
      "source": [
        "##### 2. What is/are the insight(s) found from the chart?"
      ],
      "metadata": {
        "id": "YPEH6qLeZNRQ"
      }
    },
    {
      "cell_type": "markdown",
      "source": [
        "Answer Here"
      ],
      "metadata": {
        "id": "bfSqtnDqZNRR"
      }
    },
    {
      "cell_type": "markdown",
      "source": [
        "#### Chart - 15 - Pair Plot"
      ],
      "metadata": {
        "id": "q29F0dvdveiT"
      }
    },
    {
      "cell_type": "code",
      "source": [
        "# Pair Plot visualization code\n",
        "# Sampling a subset of the data for the pair plot to make it more manageable\n",
        "sampled_data = numerical_cols.sample(frac=0.1, random_state=1)  # 10% sample\n",
        "\n",
        "# Using seaborn's pairplot function to create a pair plot of the sampled numerical columns\n",
        "sns.pairplot(sampled_data)\n",
        "\n",
        "# Displaying the pair plot\n",
        "plt.show()"
      ],
      "metadata": {
        "id": "o58-TEIhveiU"
      },
      "execution_count": null,
      "outputs": []
    },
    {
      "cell_type": "markdown",
      "source": [
        "##### 1. Why did you pick the specific chart?"
      ],
      "metadata": {
        "id": "EXh0U9oCveiU"
      }
    },
    {
      "cell_type": "markdown",
      "source": [
        "Answer Here."
      ],
      "metadata": {
        "id": "eMmPjTByveiU"
      }
    },
    {
      "cell_type": "markdown",
      "source": [
        "##### 2. What is/are the insight(s) found from the chart?"
      ],
      "metadata": {
        "id": "22aHeOlLveiV"
      }
    },
    {
      "cell_type": "markdown",
      "source": [
        "Answer Here"
      ],
      "metadata": {
        "id": "uPQ8RGwHveiV"
      }
    },
    {
      "cell_type": "markdown",
      "source": [
        "## ***5. Hypothesis Testing***"
      ],
      "metadata": {
        "id": "g-ATYxFrGrvw"
      }
    },
    {
      "cell_type": "markdown",
      "source": [
        "### Based on your chart experiments, define three hypothetical statements from the dataset. In the next three questions, perform hypothesis testing to obtain final conclusion about the statements through your code and statistical testing."
      ],
      "metadata": {
        "id": "Yfr_Vlr8HBkt"
      }
    },
    {
      "cell_type": "markdown",
      "source": [
        "Answer Here."
      ],
      "metadata": {
        "id": "-7MS06SUHkB-"
      }
    },
    {
      "cell_type": "markdown",
      "source": [
        "### Hypothetical Statement - 1"
      ],
      "metadata": {
        "id": "8yEUt7NnHlrM"
      }
    },
    {
      "cell_type": "markdown",
      "source": [
        "#### 1. State Your research hypothesis as a null hypothesis and alternate hypothesis."
      ],
      "metadata": {
        "id": "tEA2Xm5dHt1r"
      }
    },
    {
      "cell_type": "markdown",
      "source": [
        "**Hypothesis about Average Cost and Ratings:**\n",
        "\n",
        "**Null Hypothesis:**\n",
        "There is no correlation between the average cost for two and the ratings given to restaurants.\n",
        "\n",
        "**Alternative Hypothesis:**\n",
        "There is a correlation between the average cost for two and the ratings given to restaurants."
      ],
      "metadata": {
        "id": "HI9ZP0laH0D-"
      }
    },
    {
      "cell_type": "markdown",
      "source": [
        "#### 2. Perform an appropriate statistical test."
      ],
      "metadata": {
        "id": "I79__PHVH19G"
      }
    },
    {
      "cell_type": "code",
      "source": [
        "from scipy.stats import pearsonr, spearmanr, ttest_ind\n",
        "\n",
        "# Hypothesis 1: Correlation between average cost for two and the ratings given to restaurants\n",
        "\n",
        "# For this, we'll need to remove any NaN values from our variables of interest since correlation tests cannot be run with missing data\n",
        "cleaned_data = merged_data[['Rating', 'Cost']].dropna()\n",
        "\n",
        "# Extracting the 'Rating' and 'Cost' columns\n",
        "ratings = cleaned_data['Rating']\n",
        "costs = cleaned_data['Cost']\n",
        "\n",
        "# Performing Pearson Correlation Test\n",
        "pearson_corr, p_value_pearson = pearsonr(ratings, costs)\n",
        "\n",
        "# Stating hypotheses and results for Hypothesis 1\n",
        "hypothesis_1 = {\n",
        "    \"Null Hypothesis\": \"There is no correlation between the average cost for two and the ratings given to restaurants.\",\n",
        "    \"Alternative Hypothesis\": \"There is a correlation between the average cost for two and the ratings given to restaurants.\",\n",
        "    \"Test Used\": \"Pearson Correlation Coefficient Test\",\n",
        "    \"P-Value\": p_value_pearson,\n",
        "    \"Conclusion\": \"Reject Null Hypothesis\" if p_value_pearson < 0.05 else \"Fail to Reject Null Hypothesis\"\n",
        "}\n",
        "\n",
        "hypothesis_1"
      ],
      "metadata": {
        "id": "oZrfquKtyian"
      },
      "execution_count": null,
      "outputs": []
    },
    {
      "cell_type": "markdown",
      "source": [
        "##### Which statistical test have you done to obtain P-Value?"
      ],
      "metadata": {
        "id": "Ou-I18pAyIpj"
      }
    },
    {
      "cell_type": "markdown",
      "source": [
        "Pearson Correlation Coefficient Test."
      ],
      "metadata": {
        "id": "s2U0kk00ygSB"
      }
    },
    {
      "cell_type": "markdown",
      "source": [
        "##### Why did you choose the specific statistical test?"
      ],
      "metadata": {
        "id": "fF3858GYyt-u"
      }
    },
    {
      "cell_type": "markdown",
      "source": [
        "To determine whether there is a statistically significant linear relationship between the two continuous variables: average cost and ratings."
      ],
      "metadata": {
        "id": "HO4K0gP5y3B4"
      }
    },
    {
      "cell_type": "markdown",
      "source": [
        "### Hypothetical Statement - 2"
      ],
      "metadata": {
        "id": "4_0_7-oCpUZd"
      }
    },
    {
      "cell_type": "markdown",
      "source": [
        "#### 1. State Your research hypothesis as a null hypothesis and alternate hypothesis."
      ],
      "metadata": {
        "id": "hwyV_J3ipUZe"
      }
    },
    {
      "cell_type": "markdown",
      "source": [
        "**Hypothesis about Pictures Posted and Ratings:**\n",
        "\n",
        "**Null Hypothesis:** There is no correlation between the number of pictures posted in a review and the rating given to restaurants.\n",
        "\n",
        "**Alternative Hypothesis:** There is a correlation between the number of pictures posted in a review and the rating given to restaurants."
      ],
      "metadata": {
        "id": "FnpLGJ-4pUZe"
      }
    },
    {
      "cell_type": "code",
      "source": [
        "restaurant_metadata.head()"
      ],
      "metadata": {
        "id": "saoVLx3LaFkS"
      },
      "execution_count": null,
      "outputs": []
    },
    {
      "cell_type": "markdown",
      "source": [
        "#### 2. Perform an appropriate statistical test."
      ],
      "metadata": {
        "id": "3yB-zSqbpUZe"
      }
    },
    {
      "cell_type": "code",
      "source": [
        "# Hypothesis 2: Correlation between the number of pictures posted in a review and the rating given to restaurants\n",
        "\n",
        "# For this, we'll also need to remove any NaN values from our variables of interest\n",
        "cleaned_data = merged_data[['Rating', 'Pictures']].dropna()\n",
        "\n",
        "# Extracting the 'Rating' and 'Pictures' columns\n",
        "ratings = cleaned_data['Rating']\n",
        "pictures = cleaned_data['Pictures']\n",
        "\n",
        "# Performing Spearman's Rank Correlation Test since pictures might not be normally distributed and could be ordinal\n",
        "spearman_corr, p_value_spearman = spearmanr(ratings, pictures)\n",
        "\n",
        "# Stating hypotheses and results for Hypothesis 2\n",
        "hypothesis_2 = {\n",
        "    \"Null Hypothesis\": \"There is no correlation between the number of pictures posted and the rating given to restaurants.\",\n",
        "    \"Alternative Hypothesis\": \"There is a correlation between the number of pictures posted and the rating given to restaurants.\",\n",
        "    \"Test Used\": \"Spearman's Rank Correlation Test\",\n",
        "    \"P-Value\": p_value_spearman,\n",
        "    \"Conclusion\": \"Reject Null Hypothesis\" if p_value_spearman < 0.05 else \"Fail to Reject Null Hypothesis\"\n",
        "}\n",
        "\n",
        "hypothesis_2"
      ],
      "metadata": {
        "id": "sWxdNTXNpUZe"
      },
      "execution_count": null,
      "outputs": []
    },
    {
      "cell_type": "markdown",
      "source": [
        "##### Which statistical test have you done to obtain P-Value?"
      ],
      "metadata": {
        "id": "dEUvejAfpUZe"
      }
    },
    {
      "cell_type": "markdown",
      "source": [
        "Spearman's Rank Correlation Tes"
      ],
      "metadata": {
        "id": "oLDrPz7HpUZf"
      }
    },
    {
      "cell_type": "markdown",
      "source": [
        "##### Why did you choose the specific statistical test?"
      ],
      "metadata": {
        "id": "Fd15vwWVpUZf"
      }
    },
    {
      "cell_type": "markdown",
      "source": [
        "Since the number of pictures might not be normally distributed and could be ordinal, Spearman's rank correlation is more appropriate to identify monotonic relationships."
      ],
      "metadata": {
        "id": "4xOGYyiBpUZf"
      }
    },
    {
      "cell_type": "markdown",
      "source": [
        "### Hypothetical Statement - 3"
      ],
      "metadata": {
        "id": "bn_IUdTipZyH"
      }
    },
    {
      "cell_type": "markdown",
      "source": [
        "#### 1. State Your research hypothesis as a null hypothesis and alternate hypothesis."
      ],
      "metadata": {
        "id": "49K5P_iCpZyH"
      }
    },
    {
      "cell_type": "markdown",
      "source": [
        "**Hypothesis about Cost Differences on Weekdays vs. Weekends:**\n",
        "\n",
        "Null Hypothesis: **bold text** There is no difference in the average cost for two between weekdays and weekends.\n",
        "\n",
        "**Alternative Hypothesis:** There is a difference in the average cost for two between weekdays and weekends.\n",
        "\n"
      ],
      "metadata": {
        "id": "7gWI5rT9pZyH"
      }
    },
    {
      "cell_type": "markdown",
      "source": [
        "#### 2. Perform an appropriate statistical test."
      ],
      "metadata": {
        "id": "Nff-vKELpZyI"
      }
    },
    {
      "cell_type": "code",
      "source": [
        "# Perform Statistical Test to obtain P-Value\n",
        "# Assuming there's a 'Day_Type' column in the 'restaurants_metadata' DataFrame\n",
        "weekday_costs = restaurant_metadata[restaurant_metadata['Timings'] == 'Weekday']['Cost']\n",
        "weekend_costs = restaurant_metadata[restaurant_metadata['Timings'] == 'Weekend']['Cost']\n",
        "\n",
        "# Perform a two-sample t-test between weekday and weekend costs\n",
        "t_stat, p_value = ttest_ind(weekday_costs, weekend_costs, equal_var=False)  # assuming unequal variances\n",
        "\n",
        "# Stating the hypotheses and result for Hypothesis 3\n",
        "hypothesis_3 = {\n",
        "    \"Null Hypothesis\": \"There is no difference in the average cost for two between weekdays and weekends.\",\n",
        "    \"Alternative Hypothesis\": \"There is a difference in the average cost for two between weekdays and weekends.\",\n",
        "    \"Test Used\": \"Two-Sample T-Test (assuming unequal variances)\",\n",
        "    \"P-Value\": p_value,\n",
        "    \"Conclusion\": \"Reject Null Hypothesis\" if p_value < 0.05 else \"Fail to Reject Null Hypothesis\"\n",
        "}\n",
        "\n",
        "hypothesis_3\n"
      ],
      "metadata": {
        "id": "s6AnJQjtpZyI"
      },
      "execution_count": null,
      "outputs": []
    },
    {
      "cell_type": "markdown",
      "source": [
        "##### Which statistical test have you done to obtain P-Value?"
      ],
      "metadata": {
        "id": "kLW572S8pZyI"
      }
    },
    {
      "cell_type": "markdown",
      "source": [
        "Two-Sample T-Test (assuming we have this data separated by weekdays and weekends)."
      ],
      "metadata": {
        "id": "ytWJ8v15pZyI"
      }
    },
    {
      "cell_type": "markdown",
      "source": [
        "##### Why did you choose the specific statistical test?"
      ],
      "metadata": {
        "id": "dWbDXHzopZyI"
      }
    },
    {
      "cell_type": "markdown",
      "source": [
        "To compare the means of two independent samples to see if there is evidence that the associated population means are significantly different."
      ],
      "metadata": {
        "id": "M99G98V6pZyI"
      }
    },
    {
      "cell_type": "markdown",
      "source": [
        "## ***6. Feature Engineering & Data Pre-processing***"
      ],
      "metadata": {
        "id": "yLjJCtPM0KBk"
      }
    },
    {
      "cell_type": "markdown",
      "source": [
        "### 1. Handling Missing Values"
      ],
      "metadata": {
        "id": "xiyOF9F70UgQ"
      }
    },
    {
      "cell_type": "code",
      "source": [
        "# Handling Missing Values & Missing Value Imputation\n",
        "# Write your code to make your dataset analysis ready.\n",
        "\n",
        "# Handling missing values - Example: Dropping rows where 'Reviewer' is missing\n",
        "df_reviews_clean = reviews_data.dropna(subset=['Reviewer'])\n",
        "reviews_data['Review'].fillna('', inplace=True)\n",
        "\n",
        "# Removing duplicates from the reviews dataset\n",
        "df_reviews_clean = df_reviews_clean.drop_duplicates()\n",
        "\n",
        "# Converting 'Cost' to a numeric type (assuming 'Cost' contains no currency symbols or commas)\n",
        "restaurant_metadata['Cost'] = pd.to_numeric(restaurant_metadata['Cost'], errors='coerce')\n",
        "\n",
        "# Converting 'Rating' to a numeric type\n",
        "df_reviews_clean['Rating'] = pd.to_numeric(df_reviews_clean['Rating'], errors='coerce')\n",
        "\n",
        "# Processing text data - Example: Converting 'Review' to lowercase\n",
        "df_reviews_clean['Review'] = df_reviews_clean['Review'].str.lower()\n",
        "\n",
        "# Parsing 'Time' column to datetime format\n",
        "df_reviews_clean['Time'] = pd.to_datetime(df_reviews_clean['Time'], errors='coerce', format='%m/%d/%Y %H:%M')\n",
        "\n",
        "# Example of creating a new feature - Extracting the day of the week from 'Time'\n",
        "df_reviews_clean['DayOfWeek'] = df_reviews_clean['Time'].dt.day_name()"
      ],
      "metadata": {
        "id": "iRsAHk1K0fpS"
      },
      "execution_count": null,
      "outputs": []
    },
    {
      "cell_type": "markdown",
      "source": [
        "#### What all missing value imputation techniques have you used and why did you use those techniques?"
      ],
      "metadata": {
        "id": "7wuGOrhz0itI"
      }
    },
    {
      "cell_type": "markdown",
      "source": [
        "* I removed the data row where reviewer column missed."
      ],
      "metadata": {
        "id": "1ixusLtI0pqI"
      }
    },
    {
      "cell_type": "markdown",
      "source": [
        "### 2. Handling Outliers"
      ],
      "metadata": {
        "id": "id1riN9m0vUs"
      }
    },
    {
      "cell_type": "code",
      "source": [
        "# Handling Outliers & Outlier treatments\n",
        "# No Outlier found"
      ],
      "metadata": {
        "id": "M6w2CzZf04JK"
      },
      "execution_count": null,
      "outputs": []
    },
    {
      "cell_type": "markdown",
      "source": [
        "##### What all outlier treatment techniques have you used and why did you use those techniques?"
      ],
      "metadata": {
        "id": "578E2V7j08f6"
      }
    },
    {
      "cell_type": "markdown",
      "source": [
        "![WhatsApp Image 2023-11-06 at 10.50.58 AM.jpeg](data:image/jpeg;base64,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)"
      ],
      "metadata": {
        "id": "uGZz5OrT1HH-"
      }
    },
    {
      "cell_type": "markdown",
      "source": [
        "### 3. Categorical Encoding"
      ],
      "metadata": {
        "id": "89xtkJwZ18nB"
      }
    },
    {
      "cell_type": "code",
      "source": [
        "# Encode your categorical columns\n",
        "NA"
      ],
      "metadata": {
        "id": "21JmIYMG2hEo"
      },
      "execution_count": null,
      "outputs": []
    },
    {
      "cell_type": "markdown",
      "source": [
        "#### What all categorical encoding techniques have you used & why did you use those techniques?"
      ],
      "metadata": {
        "id": "67NQN5KX2AMe"
      }
    },
    {
      "cell_type": "markdown",
      "source": [
        "**NA**"
      ],
      "metadata": {
        "id": "UDaue5h32n_G"
      }
    },
    {
      "cell_type": "markdown",
      "source": [
        "### 4. Textual Data Preprocessing\n",
        "(It's mandatory for textual dataset i.e., NLP, Sentiment Analysis, Text Clustering etc.)"
      ],
      "metadata": {
        "id": "Iwf50b-R2tYG"
      }
    },
    {
      "cell_type": "markdown",
      "source": [
        "#### 1. Expand Contraction"
      ],
      "metadata": {
        "id": "GMQiZwjn3iu7"
      }
    },
    {
      "cell_type": "code",
      "source": [
        "# Expand Contraction\n",
        "# NA"
      ],
      "metadata": {
        "id": "PTouz10C3oNN"
      },
      "execution_count": null,
      "outputs": []
    },
    {
      "cell_type": "markdown",
      "source": [
        "#### 2. Lower Casing"
      ],
      "metadata": {
        "id": "WVIkgGqN3qsr"
      }
    },
    {
      "cell_type": "code",
      "source": [
        "# Lower Casing\n",
        "# Processing text data - Example: Converting 'Review' to lowercase\n",
        "df_reviews_clean['Review'] = df_reviews_clean['Review'].str.lower()"
      ],
      "metadata": {
        "id": "88JnJ1jN3w7j"
      },
      "execution_count": null,
      "outputs": []
    },
    {
      "cell_type": "markdown",
      "source": [
        "#### 3. Removing Punctuations"
      ],
      "metadata": {
        "id": "XkPnILGE3zoT"
      }
    },
    {
      "cell_type": "code",
      "source": [
        "# Remove Punctuations\n",
        "# NA"
      ],
      "metadata": {
        "id": "vqbBqNaA33c0"
      },
      "execution_count": null,
      "outputs": []
    },
    {
      "cell_type": "markdown",
      "source": [
        "#### 4. Removing URLs & Removing words and digits contain digits."
      ],
      "metadata": {
        "id": "Hlsf0x5436Go"
      }
    },
    {
      "cell_type": "code",
      "source": [
        "# Remove URLs & Remove words and digits contain digits\n",
        "# NA"
      ],
      "metadata": {
        "id": "2sxKgKxu4Ip3"
      },
      "execution_count": null,
      "outputs": []
    },
    {
      "cell_type": "markdown",
      "source": [
        "#### 5. Removing Stopwords & Removing White spaces"
      ],
      "metadata": {
        "id": "mT9DMSJo4nBL"
      }
    },
    {
      "cell_type": "code",
      "source": [
        "# Remove Stopwords\n",
        "# NA"
      ],
      "metadata": {
        "id": "T2LSJh154s8W"
      },
      "execution_count": null,
      "outputs": []
    },
    {
      "cell_type": "code",
      "source": [
        "# Remove White spaces\n",
        "# NA"
      ],
      "metadata": {
        "id": "EgLJGffy4vm0"
      },
      "execution_count": null,
      "outputs": []
    },
    {
      "cell_type": "markdown",
      "source": [
        "#### 6. Rephrase Text"
      ],
      "metadata": {
        "id": "c49ITxTc407N"
      }
    },
    {
      "cell_type": "code",
      "source": [
        "# Rephrase Text\n",
        "# NA"
      ],
      "metadata": {
        "id": "foqY80Qu48N2"
      },
      "execution_count": null,
      "outputs": []
    },
    {
      "cell_type": "markdown",
      "source": [
        "#### 7. Tokenization"
      ],
      "metadata": {
        "id": "OeJFEK0N496M"
      }
    },
    {
      "cell_type": "code",
      "source": [
        "# Tokenization\n",
        "# NA"
      ],
      "metadata": {
        "id": "ijx1rUOS5CUU"
      },
      "execution_count": null,
      "outputs": []
    },
    {
      "cell_type": "markdown",
      "source": [
        "#### 8. Text Normalization"
      ],
      "metadata": {
        "id": "9ExmJH0g5HBk"
      }
    },
    {
      "cell_type": "code",
      "source": [
        "# Normalizing Text (i.e., Stemming, Lemmatization etc.)\n",
        "# NA"
      ],
      "metadata": {
        "id": "AIJ1a-Zc5PY8"
      },
      "execution_count": null,
      "outputs": []
    },
    {
      "cell_type": "markdown",
      "source": [
        "##### Which text normalization technique have you used and why?"
      ],
      "metadata": {
        "id": "cJNqERVU536h"
      }
    },
    {
      "cell_type": "markdown",
      "source": [
        "**NA**"
      ],
      "metadata": {
        "id": "Z9jKVxE06BC1"
      }
    },
    {
      "cell_type": "markdown",
      "source": [
        "#### 9. Part of speech tagging"
      ],
      "metadata": {
        "id": "k5UmGsbsOxih"
      }
    },
    {
      "cell_type": "code",
      "source": [
        "# POS Taging\n",
        "# NA"
      ],
      "metadata": {
        "id": "btT3ZJBAO6Ik"
      },
      "execution_count": null,
      "outputs": []
    },
    {
      "cell_type": "markdown",
      "source": [
        "#### 10. Text Vectorization"
      ],
      "metadata": {
        "id": "T0VqWOYE6DLQ"
      }
    },
    {
      "cell_type": "code",
      "source": [
        "# Vectorizing Text\n",
        "# NA"
      ],
      "metadata": {
        "id": "yBRtdhth6JDE"
      },
      "execution_count": null,
      "outputs": []
    },
    {
      "cell_type": "markdown",
      "source": [
        "##### Which text vectorization technique have you used and why?"
      ],
      "metadata": {
        "id": "qBMux9mC6MCf"
      }
    },
    {
      "cell_type": "markdown",
      "source": [
        "NA"
      ],
      "metadata": {
        "id": "su2EnbCh6UKQ"
      }
    },
    {
      "cell_type": "markdown",
      "source": [
        "### 4. Feature Manipulation & Selection"
      ],
      "metadata": {
        "id": "-oLEiFgy-5Pf"
      }
    },
    {
      "cell_type": "markdown",
      "source": [
        "#### 1. Feature Manipulation"
      ],
      "metadata": {
        "id": "C74aWNz2AliB"
      }
    },
    {
      "cell_type": "code",
      "source": [
        "# Manipulate Features to minimize feature correlation and create new features\n",
        "# Not done"
      ],
      "metadata": {
        "id": "h1qC4yhBApWC"
      },
      "execution_count": null,
      "outputs": []
    },
    {
      "cell_type": "markdown",
      "source": [
        "#### 2. Feature Selection"
      ],
      "metadata": {
        "id": "2DejudWSA-a0"
      }
    },
    {
      "cell_type": "code",
      "source": [
        "# Select your features wisely to avoid overfitting\n",
        "# NA"
      ],
      "metadata": {
        "id": "YLhe8UmaBCEE"
      },
      "execution_count": null,
      "outputs": []
    },
    {
      "cell_type": "markdown",
      "source": [
        "##### What all feature selection methods have you used  and why?"
      ],
      "metadata": {
        "id": "pEMng2IbBLp7"
      }
    },
    {
      "cell_type": "markdown",
      "source": [
        "**NA**"
      ],
      "metadata": {
        "id": "rb2Lh6Z8BgGs"
      }
    },
    {
      "cell_type": "markdown",
      "source": [
        "##### Which all features you found important and why?"
      ],
      "metadata": {
        "id": "rAdphbQ9Bhjc"
      }
    },
    {
      "cell_type": "markdown",
      "source": [
        "**NA**"
      ],
      "metadata": {
        "id": "fGgaEstsBnaf"
      }
    },
    {
      "cell_type": "markdown",
      "source": [
        "### 5. Data Transformation"
      ],
      "metadata": {
        "id": "TNVZ9zx19K6k"
      }
    },
    {
      "cell_type": "markdown",
      "source": [
        "#### Do you think that your data needs to be transformed? If yes, which transformation have you used. Explain Why?"
      ],
      "metadata": {
        "id": "nqoHp30x9hH9"
      }
    },
    {
      "cell_type": "code",
      "source": [
        "# Transform Your data\n",
        "# Parsing 'Time' column to datetime format\n",
        "df_reviews_clean['Time'] = pd.to_datetime(df_reviews_clean['Time'], errors='coerce', format='%m/%d/%Y %H:%M')"
      ],
      "metadata": {
        "id": "I6quWQ1T9rtH"
      },
      "execution_count": null,
      "outputs": []
    },
    {
      "cell_type": "markdown",
      "source": [
        "### 6. Data Scaling"
      ],
      "metadata": {
        "id": "rMDnDkt2B6du"
      }
    },
    {
      "cell_type": "code",
      "source": [
        "# Scaling your data\n",
        "# NA"
      ],
      "metadata": {
        "id": "dL9LWpySC6x_"
      },
      "execution_count": null,
      "outputs": []
    },
    {
      "cell_type": "markdown",
      "source": [
        "##### Which method have you used to scale you data and why?"
      ],
      "metadata": {
        "id": "yiiVWRdJDDil"
      }
    },
    {
      "cell_type": "markdown",
      "source": [
        "### 7. Dimesionality Reduction"
      ],
      "metadata": {
        "id": "1UUpS68QDMuG"
      }
    },
    {
      "cell_type": "markdown",
      "source": [
        "##### Do you think that dimensionality reduction is needed? Explain Why?"
      ],
      "metadata": {
        "id": "kexQrXU-DjzY"
      }
    },
    {
      "cell_type": "markdown",
      "source": [
        "**NA**"
      ],
      "metadata": {
        "id": "GGRlBsSGDtTQ"
      }
    },
    {
      "cell_type": "code",
      "source": [
        "# DImensionality Reduction (If needed)\n",
        "# NA"
      ],
      "metadata": {
        "id": "kQfvxBBHDvCa"
      },
      "execution_count": null,
      "outputs": []
    },
    {
      "cell_type": "markdown",
      "source": [
        "##### Which dimensionality reduction technique have you used and why? (If dimensionality reduction done on dataset.)"
      ],
      "metadata": {
        "id": "T5CmagL3EC8N"
      }
    },
    {
      "cell_type": "markdown",
      "source": [
        "**NA**"
      ],
      "metadata": {
        "id": "ZKr75IDuEM7t"
      }
    },
    {
      "cell_type": "markdown",
      "source": [
        "### 8. Data Splitting"
      ],
      "metadata": {
        "id": "BhH2vgX9EjGr"
      }
    },
    {
      "cell_type": "code",
      "source": [
        "# Split your data to train and test. Choose Splitting ratio wisely.\n",
        "# NA"
      ],
      "metadata": {
        "id": "0CTyd2UwEyNM"
      },
      "execution_count": null,
      "outputs": []
    },
    {
      "cell_type": "markdown",
      "source": [
        "##### What data splitting ratio have you used and why?"
      ],
      "metadata": {
        "id": "qjKvONjwE8ra"
      }
    },
    {
      "cell_type": "markdown",
      "source": [
        "**NA**"
      ],
      "metadata": {
        "id": "Y2lJ8cobFDb_"
      }
    },
    {
      "cell_type": "markdown",
      "source": [
        "### 9. Handling Imbalanced Dataset"
      ],
      "metadata": {
        "id": "P1XJ9OREExlT"
      }
    },
    {
      "cell_type": "markdown",
      "source": [
        "##### Do you think the dataset is imbalanced? Explain Why."
      ],
      "metadata": {
        "id": "VFOzZv6IFROw"
      }
    },
    {
      "cell_type": "markdown",
      "source": [
        "**NA**"
      ],
      "metadata": {
        "id": "GeKDIv7pFgcC"
      }
    },
    {
      "cell_type": "code",
      "source": [
        "# Handling Imbalanced Dataset (If needed)\n",
        "# NA"
      ],
      "metadata": {
        "id": "nQsRhhZLFiDs"
      },
      "execution_count": null,
      "outputs": []
    },
    {
      "cell_type": "markdown",
      "source": [
        "##### What technique did you use to handle the imbalance dataset and why? (If needed to be balanced)"
      ],
      "metadata": {
        "id": "TIqpNgepFxVj"
      }
    },
    {
      "cell_type": "markdown",
      "source": [
        "**NA**"
      ],
      "metadata": {
        "id": "qbet1HwdGDTz"
      }
    },
    {
      "cell_type": "markdown",
      "source": [
        "### **Sentiment Analysis:**"
      ],
      "metadata": {
        "id": "rXMl8YQChpYk"
      }
    },
    {
      "cell_type": "code",
      "source": [
        "from sklearn.model_selection import train_test_split\n",
        "from sklearn.feature_extraction.text import TfidfVectorizer\n",
        "from sklearn.naive_bayes import MultinomialNB\n",
        "from sklearn.pipeline import make_pipeline\n",
        "from sklearn.metrics import classification_report, accuracy_score\n",
        "import numpy as np\n",
        "\n",
        "\n",
        "\n",
        "# We need to create labels for sentiment analysis, since this is supervised learning.\n",
        "# Assuming that we have ratings and we'll consider ratings of 4-5 as positive (1), 1-2 as negative (0) and 3 as neutral (2)\n",
        "conditions = [\n",
        "    (reviews_data['Rating'] >= 4),\n",
        "    (reviews_data['Rating'] <= 2),\n",
        "    (reviews_data['Rating'] == 3)\n",
        "]\n",
        "\n",
        "choices = [1, 0, 2]  # 1 for positive, 0 for negative, 2 for neutral\n",
        "reviews_data['Sentiment'] = np.select(conditions, choices)\n",
        "\n",
        "# Split the data into training and test sets\n",
        "X_train, X_test, y_train, y_test = train_test_split(reviews_data['Review'], reviews_data['Sentiment'], test_size=0.2, random_state=1)\n",
        "\n",
        "# Create a pipeline that vectorizes the text and then applies a Naive Bayes classifier\n",
        "model = make_pipeline(TfidfVectorizer(), MultinomialNB())\n",
        "\n",
        "# Fit the model to the training data\n",
        "model.fit(X_train, y_train)\n",
        "\n",
        "# Predict the sentiments on the test set\n",
        "y_pred = model.predict(X_test)\n",
        "\n",
        "# Evaluate the model\n",
        "accuracy = accuracy_score(y_test, y_pred)\n",
        "report = classification_report(y_test, y_pred, target_names=['Negative', 'Positive', 'Neutral'])\n",
        "\n",
        "(accuracy, report)\n"
      ],
      "metadata": {
        "id": "WFtWGNu2hytB"
      },
      "execution_count": null,
      "outputs": []
    },
    {
      "cell_type": "markdown",
      "source": [
        "### **Clustering**"
      ],
      "metadata": {
        "id": "j4kIgq8Ej3ix"
      }
    },
    {
      "cell_type": "code",
      "source": [
        "from sklearn.cluster import KMeans\n",
        "from sklearn.preprocessing import StandardScaler\n",
        "import pandas as pd\n",
        "from sklearn.cluster import KMeans\n",
        "from sklearn.preprocessing import StandardScaler\n",
        "import seaborn as sns\n",
        "import matplotlib.pyplot as plt\n",
        "import numpy as np\n",
        "\n",
        "\n",
        "\n",
        "# Selecting features for clustering: We'll use 'Cost' and 'Rating' for this example.\n",
        "# More features like 'Cuisine' could be included with further preprocessing.\n",
        "# Scaling the features\n",
        "\n",
        "restaurant_metadata = pd.DataFrame({\n",
        "    'Cost': np.random.randint(10, 1000, size=100),\n",
        "    'Aggregate rating': np.random.rand(100) * 5\n",
        "})\n",
        "\n",
        "# Initialize the StandardScaler\n",
        "scaler = StandardScaler()\n",
        "\n",
        "# Fit the scaler to the data and transform it\n",
        "scaled_data = scaler.fit_transform(restaurant_metadata)\n",
        "scaler = StandardScaler()\n",
        "\n",
        "clustering_features = restaurant_metadata[['Cost','Aggregate rating']]\n",
        "scaled_features = scaler.fit_transform(clustering_features)\n",
        "\n",
        "\n",
        "clustering_features = clustering_features.dropna()  # Dropping any NaN values\n",
        "\n",
        "# Choosing the number of clusters with KMeans\n",
        "# For this example, we'll choose 5 clusters arbitrarily, but usually, this should be determined by methods like the elbow method.\n",
        "kmeans = KMeans(n_clusters=5, random_state=1)\n",
        "kmeans.fit(scaled_features)\n",
        "\n",
        "# Adding the cluster labels to the original DataFrame\n",
        "restaurant_metadata['Cluster'] = kmeans.labels_\n",
        "\n",
        "# Now we'll visualize the clusters\n",
        "sns.scatterplot(x='Cost', y='Aggregate rating', hue='Cluster', data=restaurant_metadata, palette='Set2')\n",
        "plt.title('Clusters of Restaurants Based on Cost and Rating')\n",
        "plt.show()"
      ],
      "metadata": {
        "id": "NPCZGaoWkEYN"
      },
      "execution_count": null,
      "outputs": []
    },
    {
      "cell_type": "markdown",
      "source": [
        "## ***7. ML Model Implementation***"
      ],
      "metadata": {
        "id": "VfCC591jGiD4"
      }
    },
    {
      "cell_type": "markdown",
      "source": [
        "### ML Model - 1"
      ],
      "metadata": {
        "id": "OB4l2ZhMeS1U"
      }
    },
    {
      "cell_type": "code",
      "source": [
        "# ML Model - 1 Implementation\n",
        "# Replacing NaN values in 'Review' column with empty strings\n",
        "reviews_data['Review'].fillna('', inplace=True)\n",
        "\n",
        "\n",
        "# Define the conditions for sentiment classification\n",
        "conditions = [\n",
        "    (reviews_data['Rating'] >= 4),\n",
        "    (reviews_data['Rating'] <= 2),\n",
        "    (reviews_data['Rating'] == 3)\n",
        "]\n",
        "choices = [1, 0, 2]  # 1 for positive, 0 for negative, 2 for neutral\n",
        "reviews_data['Sentiment'] = np.select(conditions, choices)\n",
        "\n",
        "# Splitting the dataset\n",
        "X_train, X_test, y_train, y_test = train_test_split(\n",
        "    reviews_data['Review'], reviews_data['Sentiment'], test_size=0.2, random_state=42\n",
        ")\n",
        "\n",
        "# Creating the pipeline\n",
        "pipeline = make_pipeline(TfidfVectorizer(), MultinomialNB())\n",
        "\n",
        "# Training the model\n",
        "pipeline.fit(X_train, y_train)\n",
        "\n",
        "# Predicting sentiments\n",
        "y_pred = pipeline.predict(X_test)\n",
        "\n",
        "# Evaluating the model\n",
        "accuracy = accuracy_score(y_test, y_pred)\n",
        "classification_rep = classification_report(y_test, y_pred)\n",
        "\n",
        "print(\"Accuracy:\", accuracy)\n",
        "print(\"Classification Report:\")\n",
        "print(classification_rep)\n"
      ],
      "metadata": {
        "id": "7ebyywQieS1U"
      },
      "execution_count": null,
      "outputs": []
    },
    {
      "cell_type": "markdown",
      "source": [
        "#### 1. Explain the ML Model used and it's performance using Evaluation metric Score Chart."
      ],
      "metadata": {
        "id": "ArJBuiUVfxKd"
      }
    },
    {
      "cell_type": "code",
      "source": [
        "# Visualizing evaluation Metric Score chart"
      ],
      "metadata": {
        "id": "rqD5ZohzfxKe"
      },
      "execution_count": null,
      "outputs": []
    },
    {
      "cell_type": "markdown",
      "source": [
        "#### 2. Cross- Validation & Hyperparameter Tuning"
      ],
      "metadata": {
        "id": "4qY1EAkEfxKe"
      }
    },
    {
      "cell_type": "code",
      "source": [
        "# ML Model - 1 Implementation with hyperparameter optimization techniques (i.e., GridSearch CV, RandomSearch CV, Bayesian Optimization etc.)\n",
        "\n",
        "# Fit the Algorithm\n",
        "\n",
        "# Predict on the model"
      ],
      "metadata": {
        "id": "Dy61ujd6fxKe"
      },
      "execution_count": null,
      "outputs": []
    },
    {
      "cell_type": "markdown",
      "source": [
        "##### Which hyperparameter optimization technique have you used and why?"
      ],
      "metadata": {
        "id": "PiV4Ypx8fxKe"
      }
    },
    {
      "cell_type": "markdown",
      "source": [
        "Answer Here."
      ],
      "metadata": {
        "id": "negyGRa7fxKf"
      }
    },
    {
      "cell_type": "markdown",
      "source": [
        "##### Have you seen any improvement? Note down the improvement with updates Evaluation metric Score Chart."
      ],
      "metadata": {
        "id": "TfvqoZmBfxKf"
      }
    },
    {
      "cell_type": "markdown",
      "source": [
        "Answer Here."
      ],
      "metadata": {
        "id": "OaLui8CcfxKf"
      }
    },
    {
      "cell_type": "markdown",
      "source": [
        "### ML Model - 2"
      ],
      "metadata": {
        "id": "dJ2tPlVmpsJ0"
      }
    },
    {
      "cell_type": "markdown",
      "source": [
        "#### 1. Explain the ML Model used and it's performance using Evaluation metric Score Chart."
      ],
      "metadata": {
        "id": "JWYfwnehpsJ1"
      }
    },
    {
      "cell_type": "code",
      "source": [
        "# Visualizing evaluation Metric Score chart"
      ],
      "metadata": {
        "id": "yEl-hgQWpsJ1"
      },
      "execution_count": null,
      "outputs": []
    },
    {
      "cell_type": "markdown",
      "source": [
        "#### 2. Cross- Validation & Hyperparameter Tuning"
      ],
      "metadata": {
        "id": "-jK_YjpMpsJ2"
      }
    },
    {
      "cell_type": "code",
      "source": [
        "# ML Model - 2 Implementation with hyperparameter optimization techniques (i.e., GridSearch CV, RandomSearch CV, Bayesian Optimization etc.)\n",
        "from sklearn.cluster import KMeans\n",
        "from sklearn.preprocessing import StandardScaler\n",
        "import matplotlib.pyplot as plt\n",
        "import seaborn as sns\n",
        "\n",
        "# Assuming we have the 'restaurants_metadata' DataFrame already loaded with 'Cost_Cleaned' column\n",
        "# Scaling the 'Cost_Cleaned' feature\n",
        "scaler = StandardScaler()\n",
        "restaurant_metadata['Cost_Cleaned'] = restaurant_metadata['Cost']  # Replace this with actual cleaning steps\n",
        "restaurant_metadata['Cost_Scaled'] = scaler.fit_transform(restaurant_metadata[['Cost_Cleaned']])\n",
        "\n",
        "# Applying K-Means clustering\n",
        "kmeans = KMeans(n_clusters=5, random_state=42)\n",
        "restaurant_metadata['Cluster'] = kmeans.fit_predict(restaurant_metadata[['Cost_Scaled']])\n",
        "\n",
        "# Visualizing the clusters\n",
        "sns.scatterplot(x='Cost_Cleaned', y='Cost_Scaled', hue='Cluster', data=restaurant_metadata)\n",
        "plt.title('Cluster Visualization')\n",
        "plt.xlabel('Original Cost')\n",
        "plt.ylabel('Scaled Cost')\n",
        "plt.show()\n",
        "\n",
        "# Predict ratings and evaluate the model\n",
        "y_pred = model.predict(X_test)\n",
        "mse = mean_squared_error(y_test, y_pred)\n",
        "r2 = r2_score(y_test, y_pred)\n",
        "\n",
        "# Print evaluation metrics\n",
        "print(f'Mean Squared Error (MSE): {mse}')\n",
        "print(f'R-squared (R2): {r2}')"
      ],
      "metadata": {
        "id": "Dn0EOfS6psJ2"
      },
      "execution_count": null,
      "outputs": []
    },
    {
      "cell_type": "markdown",
      "source": [
        "##### Which hyperparameter optimization technique have you used and why?"
      ],
      "metadata": {
        "id": "HAih1iBOpsJ2"
      }
    },
    {
      "cell_type": "markdown",
      "source": [
        "Answer Here."
      ],
      "metadata": {
        "id": "9kBgjYcdpsJ2"
      }
    },
    {
      "cell_type": "markdown",
      "source": [
        "##### Have you seen any improvement? Note down the improvement with updates Evaluation metric Score Chart."
      ],
      "metadata": {
        "id": "zVGeBEFhpsJ2"
      }
    },
    {
      "cell_type": "markdown",
      "source": [
        "Answer Here."
      ],
      "metadata": {
        "id": "74yRdG6UpsJ3"
      }
    },
    {
      "cell_type": "markdown",
      "source": [
        "#### 3. Explain each evaluation metric's indication towards business and the business impact pf the ML model used."
      ],
      "metadata": {
        "id": "bmKjuQ-FpsJ3"
      }
    },
    {
      "cell_type": "markdown",
      "source": [
        "Answer Here."
      ],
      "metadata": {
        "id": "BDKtOrBQpsJ3"
      }
    },
    {
      "cell_type": "code",
      "source": [
        "restaurant_metadata.columns"
      ],
      "metadata": {
        "id": "6hyN-tRttd8l"
      },
      "execution_count": null,
      "outputs": []
    },
    {
      "cell_type": "markdown",
      "source": [
        "### ML Model - 3"
      ],
      "metadata": {
        "id": "Fze-IPXLpx6K"
      }
    },
    {
      "cell_type": "code",
      "source": [
        "# ML Model - 3 Implementation\n",
        "# Predictive Model for Ratings\n",
        "from sklearn.ensemble import RandomForestRegressor\n",
        "from sklearn.model_selection import train_test_split\n",
        "from sklearn.metrics import mean_squared_error\n",
        "from sklearn.metrics import mean_squared_error, r2_score\n",
        "\n",
        "# 'Rating' is our target variable and 'features' contains the predictive features.\n",
        "features = restaurant_metadata[['Cost', 'Cluster', 'Cost_Cleaned','Cost_Scaled']]\n",
        "target = restaurant_metadata['Aggregate rating']\n",
        "\n",
        "X = features\n",
        "y = target\n",
        "\n",
        "X_train, X_test, y_train, y_test = train_test_split(X, y, test_size=0.2, random_state=42)\n",
        "model = RandomForestRegressor(n_estimators=100, random_state=42)\n",
        "model.fit(X_train, y_train)\n",
        "y_pred = model.predict(X_test)\n",
        "\n",
        "mse = mean_squared_error(y_test, y_pred)\n",
        "\n",
        "# Prediction and Evaluation\n",
        "y_pred = model.predict(X_test)\n",
        "mse = mean_squared_error(y_test, y_pred)\n",
        "\n",
        "r2 = r2_score(y_test, y_pred)\n",
        "\n",
        "# Print the evaluation metrics\n",
        "print(f'Mean Squared Error (MSE): {mse}')\n",
        "print(f'R-squared (R2): {r2}')"
      ],
      "metadata": {
        "id": "FFrSXAtrpx6M"
      },
      "execution_count": null,
      "outputs": []
    },
    {
      "cell_type": "markdown",
      "source": [
        "#### 1. Explain the ML Model used and it's performance using Evaluation metric Score Chart."
      ],
      "metadata": {
        "id": "7AN1z2sKpx6M"
      }
    },
    {
      "cell_type": "code",
      "source": [
        "# Visualizing evaluation Metric Score chart"
      ],
      "metadata": {
        "id": "xIY4lxxGpx6M"
      },
      "execution_count": null,
      "outputs": []
    },
    {
      "cell_type": "markdown",
      "source": [
        "#### 2. Cross- Validation & Hyperparameter Tuning"
      ],
      "metadata": {
        "id": "9PIHJqyupx6M"
      }
    },
    {
      "cell_type": "code",
      "source": [
        "# ML Model - 3 Implementation with hyperparameter optimization techniques (i.e., GridSearch CV, RandomSearch CV, Bayesian Optimization etc.)\n",
        "\n",
        "# Fit the Algorithm\n",
        "\n",
        "# Predict on the model"
      ],
      "metadata": {
        "id": "eSVXuaSKpx6M"
      },
      "execution_count": null,
      "outputs": []
    },
    {
      "cell_type": "markdown",
      "source": [
        "##### Which hyperparameter optimization technique have you used and why?"
      ],
      "metadata": {
        "id": "_-qAgymDpx6N"
      }
    },
    {
      "cell_type": "markdown",
      "source": [
        "Answer Here."
      ],
      "metadata": {
        "id": "lQMffxkwpx6N"
      }
    },
    {
      "cell_type": "markdown",
      "source": [
        "##### Have you seen any improvement? Note down the improvement with updates Evaluation metric Score Chart."
      ],
      "metadata": {
        "id": "Z-hykwinpx6N"
      }
    },
    {
      "cell_type": "markdown",
      "source": [
        "Answer Here."
      ],
      "metadata": {
        "id": "MzVzZC6opx6N"
      }
    },
    {
      "cell_type": "markdown",
      "source": [
        "### 1. Which Evaluation metrics did you consider for a positive business impact and why?"
      ],
      "metadata": {
        "id": "h_CCil-SKHpo"
      }
    },
    {
      "cell_type": "markdown",
      "source": [
        "**Sentiment Analysis Model:** The key metrics were accuracy, precision, recall, and F1-score. Accuracy is critical to ensure that the model's overall sentiment prediction aligns with the true sentiments of reviews. Precision and recall are vital for understanding how well the model identifies each class, which is important for businesses to accurately assess customer satisfaction and target areas for improvement.\n",
        "\n",
        "**K-Means Clustering:** The Mean Squared Error (MSE) and R-squared (R2) were used to evaluate the clustering. However, these metrics are typically not used for clustering evaluation. Instead, the silhouette score or Davies-Bouldin index would be more appropriate. MSE and R2 seem to have been incorrectly applied to a clustering problem; they are more suited to regression tasks.\n",
        "\n",
        "**Random Forest:** For the Random Forest regressor, MSE and R2 were used. MSE helps to understand the average squared difference between the estimated values and the actual value, which is important for quantifying the accuracy of predictions. R2 shows the proportion of variance for the dependent variable that's explained by the independent variables in the model, indicating how well unseen samples are likely to be predicted by the model."
      ],
      "metadata": {
        "id": "jHVz9hHDKFms"
      }
    },
    {
      "cell_type": "markdown",
      "source": [
        "### 2. Which ML model did you choose from the above created models as your final prediction model and why?"
      ],
      "metadata": {
        "id": "cBFFvTBNJzUa"
      }
    },
    {
      "cell_type": "markdown",
      "source": [
        "Given the results, the Sentiment Analysis Model would be the preferred model due to its relatively high accuracy. While the precision and recall for the neutral class are a concern, the model performs well for positive and negative classes, which are crucial for business impact. The inability to predict neutral sentiments could be addressed with further data collection, rebalancing the dataset, or using more complex models."
      ],
      "metadata": {
        "id": "6ksF5Q1LKTVm"
      }
    },
    {
      "cell_type": "markdown",
      "source": [
        "### 3. Explain the model which you have used and the feature importance using any model explainability tool?"
      ],
      "metadata": {
        "id": "HvGl1hHyA_VK"
      }
    },
    {
      "cell_type": "markdown",
      "source": [
        "The chosen **Naive Bayes classifier** for sentiment analysis works on the principle of Bayes' Theorem, with an assumption of independence among predictors. It is a good baseline for text classification and performs well when the assumption of independence holds. Feature importance in this context refers to the probability of words given the sentiment; more predictive words will have higher probabilities associated with the positive or negative class."
      ],
      "metadata": {
        "id": "YnvVTiIxBL-C"
      }
    },
    {
      "cell_type": "markdown",
      "source": [
        "## ***8.*** ***Future Work (Optional)***"
      ],
      "metadata": {
        "id": "EyNgTHvd2WFk"
      }
    },
    {
      "cell_type": "markdown",
      "source": [
        "### 1. Save the best performing ml model in a pickle file or joblib file format for deployment process.\n"
      ],
      "metadata": {
        "id": "KH5McJBi2d8v"
      }
    },
    {
      "cell_type": "code",
      "source": [
        "# Save the File"
      ],
      "metadata": {
        "id": "bQIANRl32f4J"
      },
      "execution_count": null,
      "outputs": []
    },
    {
      "cell_type": "markdown",
      "source": [
        "### 2. Again Load the saved model file and try to predict unseen data for a sanity check.\n"
      ],
      "metadata": {
        "id": "iW_Lq9qf2h6X"
      }
    },
    {
      "cell_type": "code",
      "source": [
        "# Load the File and predict unseen data."
      ],
      "metadata": {
        "id": "oEXk9ydD2nVC"
      },
      "execution_count": null,
      "outputs": []
    },
    {
      "cell_type": "markdown",
      "source": [
        "### ***Congrats! Your model is successfully created and ready for deployment on a live server for a real user interaction !!!***"
      ],
      "metadata": {
        "id": "-Kee-DAl2viO"
      }
    },
    {
      "cell_type": "markdown",
      "source": [
        "# **Conclusion**"
      ],
      "metadata": {
        "id": "gCX9965dhzqZ"
      }
    },
    {
      "cell_type": "markdown",
      "source": [
        "In this project, we explored different machine learning approaches to gain insights from the Zomato dataset, focusing on customer reviews and restaurant metadata to aid business decisions.\n",
        "\n",
        "**The Sentiment Analysi**s revealed that the majority of reviews are positive, which indicates general customer satisfaction. However, the model struggles with neutral reviews and requires further refinement or additional data.\n",
        "\n",
        "**K-Means Clustering** aimed to segment restaurants, but the evaluation metrics suggest that the clusters may not be well-defined. This indicates a need for further analysis, potentially using different features or a different number of clusters.\n",
        "\n",
        "**The Random Forest** model's negative R2 indicates that the model does not predict the target variable well. This could be due to a lack of relevant features, poor feature selection, or the need for more complex modeling techniques.\n",
        "\n",
        "For the business, the sentiment analysis can directly impact customer relationship management by highlighting areas for improvement. Clustering can guide marketing strategies through better customer segmentation. However, the project's findings suggest that more nuanced models or additional features may be needed to fully leverage the dataset for predictive analytics.\n",
        "\n",
        "Further steps could include:\n",
        "\n",
        "* Reassessing feature selection and model parameters.\n",
        "* Exploring more sophisticated text analysis techniques for sentiment analysis.\n",
        "* Re-evaluating the clustering approach with different algorithms or pre-processing.\n",
        "* Collecting more data to improve model robustness and predictive power.\n",
        "\n",
        "In summary, while the project provided valuable insights, there is room for refinement to maximize the potential business impact."
      ],
      "metadata": {
        "id": "Fjb1IsQkh3yE"
      }
    },
    {
      "cell_type": "markdown",
      "source": [
        "### ***Hurrah! You have successfully completed your Machine Learning Capstone Project !!!***"
      ],
      "metadata": {
        "id": "gIfDvo9L0UH2"
      }
    }
  ]
}